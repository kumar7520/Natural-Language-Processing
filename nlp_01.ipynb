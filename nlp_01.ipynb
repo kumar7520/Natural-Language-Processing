{
 "cells": [
  {
   "cell_type": "code",
   "execution_count": 1,
   "id": "90370800",
   "metadata": {
    "id": "90370800",
    "outputId": "cbd20a75-d4a7-42e5-c3a1-bb02b07a6031"
   },
   "outputs": [
    {
     "name": "stdout",
     "output_type": "stream",
     "text": [
      "Not found\n"
     ]
    }
   ],
   "source": [
    "import re\n",
    "\n",
    "#Colors: \\033[91m (red), \\033[92m (green), \\033[93m (yellow), \\033[94m (blue), \\033[95m (pink), \\033[39m (turn off)\n",
    "#span print start to end pos, end pos not inclusive\n",
    "def printDetails(m):\n",
    "    if m:\n",
    "        #print(fFound \"{m.group()}\" at position {m.span()} in the string: {m.string}')\n",
    "        print(f'{m.string[0:m.span()[0]]}\\033[91m{m.string[m.span()[0]:m.span()[1]]}\\033[39m{m.string[m.span()[1]:]}')\n",
    "    else:\n",
    "        print('Not found')\n",
    "\n",
    "txt= \"Om Sri Sairam\"\n",
    "x= re.search(\"sai\",txt)\n",
    "printDetails(x)\n",
    "if x:\n",
    "    print(x.span())\n",
    "    print(x.string)\n",
    "    print(x.group())"
   ]
  },
  {
   "cell_type": "code",
   "execution_count": 2,
   "id": "44088535",
   "metadata": {
    "id": "44088535",
    "outputId": "688bff09-cddb-48be-9b23-cb25acd57f3e"
   },
   "outputs": [
    {
     "name": "stdout",
     "output_type": "stream",
     "text": [
      "Om Sri \u001b[91mSai\u001b[39mram\n",
      "<re.Match object; span=(7, 10), match='Sai'>\n"
     ]
    }
   ],
   "source": [
    "x= re.search(\"[sS]ai\",txt)  # Here we are finding for a letter s or S followed by ai \n",
    "printDetails(x)\n",
    "print(x)"
   ]
  },
  {
   "cell_type": "code",
   "execution_count": 3,
   "id": "c46ebb75",
   "metadata": {
    "id": "c46ebb75",
    "outputId": "fe3c4da1-fa77-4aa3-94ff-143d6bf125f3"
   },
   "outputs": [
    {
     "name": "stdout",
     "output_type": "stream",
     "text": [
      "Om Sri \u001b[91mSai\u001b[39mram\n"
     ]
    }
   ],
   "source": [
    "x= re.search(\"[A-Z]ai\",txt) # Here we are finding for disjunction of all capital letters followed by ai \n",
    "printDetails(x)"
   ]
  },
  {
   "cell_type": "code",
   "execution_count": 4,
   "id": "db412ec4",
   "metadata": {
    "id": "db412ec4",
    "outputId": "4570a1e6-f881-4052-e164-b1f1d0d48e2c"
   },
   "outputs": [
    {
     "name": "stdout",
     "output_type": "stream",
     "text": [
      "Not found\n"
     ]
    }
   ],
   "source": [
    "x= re.search(\"[0-9]ai\",txt) # Here we are trying to find a disjunction of number followed by ai it will not give output\n",
    "printDetails(x)"
   ]
  },
  {
   "cell_type": "code",
   "execution_count": 5,
   "id": "2376a15d",
   "metadata": {
    "id": "2376a15d",
    "outputId": "fe2d8432-737b-43ea-c1de-44b013f53262"
   },
   "outputs": [
    {
     "name": "stdout",
     "output_type": "stream",
     "text": [
      "Not found\n"
     ]
    }
   ],
   "source": [
    "x= re.search(\"[a-z]ai\",txt) # Here we are trying to find a disjunction of lowercase letter followed by ai it wont be found because in Sai starting letter is Capital S\n",
    "printDetails(x)"
   ]
  },
  {
   "cell_type": "code",
   "execution_count": 16,
   "id": "c87b1b21",
   "metadata": {},
   "outputs": [],
   "source": [
    "txt= \"Om Sri Sairam\""
   ]
  },
  {
   "cell_type": "code",
   "execution_count": 15,
   "id": "d2c39c92",
   "metadata": {
    "id": "d2c39c92",
    "outputId": "79c2418b-3f1e-4ee4-a087-a48bb1bd377f"
   },
   "outputs": [
    {
     "name": "stdout",
     "output_type": "stream",
     "text": [
      "Not found\n"
     ]
    }
   ],
   "source": [
    "x= re.search(\"[A-Z|a-c]ai\",txt)  #Here we are trying to find a disjunction of Capital A-Z and lower case letter a to c Suppose if ikeep txt = om sri dai ram it wont work but if i keep om sri Dai ram it ll be found\n",
    "printDetails(x)"
   ]
  },
  {
   "cell_type": "code",
   "execution_count": 17,
   "id": "93390d35",
   "metadata": {
    "id": "93390d35",
    "outputId": "433465f2-63f7-4fdf-cb85-18213ba4857b"
   },
   "outputs": [
    {
     "name": "stdout",
     "output_type": "stream",
     "text": [
      "Om Sri \u001b[91mSai\u001b[39mram\n"
     ]
    }
   ],
   "source": [
    "x= re.search(\"[A-z]ai\",txt)\n",
    "printDetails(x)"
   ]
  },
  {
   "cell_type": "code",
   "execution_count": 18,
   "id": "254c68c9",
   "metadata": {
    "id": "254c68c9",
    "outputId": "4ed10f4c-c1f8-41f3-df3f-bbfbf6a2a8b6"
   },
   "outputs": [
    {
     "ename": "error",
     "evalue": "bad character range a-Z at position 1",
     "output_type": "error",
     "traceback": [
      "\u001b[1;31m---------------------------------------------------------------------------\u001b[0m",
      "\u001b[1;31merror\u001b[0m                                     Traceback (most recent call last)",
      "Cell \u001b[1;32mIn[18], line 1\u001b[0m\n\u001b[1;32m----> 1\u001b[0m x\u001b[38;5;241m=\u001b[39m \u001b[43mre\u001b[49m\u001b[38;5;241;43m.\u001b[39;49m\u001b[43msearch\u001b[49m\u001b[43m(\u001b[49m\u001b[38;5;124;43m\"\u001b[39;49m\u001b[38;5;124;43m[a-Z]ai\u001b[39;49m\u001b[38;5;124;43m\"\u001b[39;49m\u001b[43m,\u001b[49m\u001b[43mtxt\u001b[49m\u001b[43m)\u001b[49m\n\u001b[0;32m      2\u001b[0m printDetails(x)\n",
      "File \u001b[1;32m~\\AppData\\Local\\Programs\\Python\\Python311\\Lib\\re\\__init__.py:176\u001b[0m, in \u001b[0;36msearch\u001b[1;34m(pattern, string, flags)\u001b[0m\n\u001b[0;32m    173\u001b[0m \u001b[38;5;28;01mdef\u001b[39;00m \u001b[38;5;21msearch\u001b[39m(pattern, string, flags\u001b[38;5;241m=\u001b[39m\u001b[38;5;241m0\u001b[39m):\n\u001b[0;32m    174\u001b[0m \u001b[38;5;250m    \u001b[39m\u001b[38;5;124;03m\"\"\"Scan through string looking for a match to the pattern, returning\u001b[39;00m\n\u001b[0;32m    175\u001b[0m \u001b[38;5;124;03m    a Match object, or None if no match was found.\"\"\"\u001b[39;00m\n\u001b[1;32m--> 176\u001b[0m     \u001b[38;5;28;01mreturn\u001b[39;00m \u001b[43m_compile\u001b[49m\u001b[43m(\u001b[49m\u001b[43mpattern\u001b[49m\u001b[43m,\u001b[49m\u001b[43m \u001b[49m\u001b[43mflags\u001b[49m\u001b[43m)\u001b[49m\u001b[38;5;241m.\u001b[39msearch(string)\n",
      "File \u001b[1;32m~\\AppData\\Local\\Programs\\Python\\Python311\\Lib\\re\\__init__.py:294\u001b[0m, in \u001b[0;36m_compile\u001b[1;34m(pattern, flags)\u001b[0m\n\u001b[0;32m    288\u001b[0m     \u001b[38;5;28;01mimport\u001b[39;00m \u001b[38;5;21;01mwarnings\u001b[39;00m\n\u001b[0;32m    289\u001b[0m     warnings\u001b[38;5;241m.\u001b[39mwarn(\u001b[38;5;124m\"\u001b[39m\u001b[38;5;124mThe re.TEMPLATE/re.T flag is deprecated \u001b[39m\u001b[38;5;124m\"\u001b[39m\n\u001b[0;32m    290\u001b[0m               \u001b[38;5;124m\"\u001b[39m\u001b[38;5;124mas it is an undocumented flag \u001b[39m\u001b[38;5;124m\"\u001b[39m\n\u001b[0;32m    291\u001b[0m               \u001b[38;5;124m\"\u001b[39m\u001b[38;5;124mwithout an obvious purpose. \u001b[39m\u001b[38;5;124m\"\u001b[39m\n\u001b[0;32m    292\u001b[0m               \u001b[38;5;124m\"\u001b[39m\u001b[38;5;124mDon\u001b[39m\u001b[38;5;124m'\u001b[39m\u001b[38;5;124mt use it.\u001b[39m\u001b[38;5;124m\"\u001b[39m,\n\u001b[0;32m    293\u001b[0m               \u001b[38;5;167;01mDeprecationWarning\u001b[39;00m)\n\u001b[1;32m--> 294\u001b[0m p \u001b[38;5;241m=\u001b[39m \u001b[43m_compiler\u001b[49m\u001b[38;5;241;43m.\u001b[39;49m\u001b[43mcompile\u001b[49m\u001b[43m(\u001b[49m\u001b[43mpattern\u001b[49m\u001b[43m,\u001b[49m\u001b[43m \u001b[49m\u001b[43mflags\u001b[49m\u001b[43m)\u001b[49m\n\u001b[0;32m    295\u001b[0m \u001b[38;5;28;01mif\u001b[39;00m \u001b[38;5;129;01mnot\u001b[39;00m (flags \u001b[38;5;241m&\u001b[39m DEBUG):\n\u001b[0;32m    296\u001b[0m     \u001b[38;5;28;01mif\u001b[39;00m \u001b[38;5;28mlen\u001b[39m(_cache) \u001b[38;5;241m>\u001b[39m\u001b[38;5;241m=\u001b[39m _MAXCACHE:\n\u001b[0;32m    297\u001b[0m         \u001b[38;5;66;03m# Drop the oldest item\u001b[39;00m\n",
      "File \u001b[1;32m~\\AppData\\Local\\Programs\\Python\\Python311\\Lib\\re\\_compiler.py:743\u001b[0m, in \u001b[0;36mcompile\u001b[1;34m(p, flags)\u001b[0m\n\u001b[0;32m    741\u001b[0m \u001b[38;5;28;01mif\u001b[39;00m isstring(p):\n\u001b[0;32m    742\u001b[0m     pattern \u001b[38;5;241m=\u001b[39m p\n\u001b[1;32m--> 743\u001b[0m     p \u001b[38;5;241m=\u001b[39m \u001b[43m_parser\u001b[49m\u001b[38;5;241;43m.\u001b[39;49m\u001b[43mparse\u001b[49m\u001b[43m(\u001b[49m\u001b[43mp\u001b[49m\u001b[43m,\u001b[49m\u001b[43m \u001b[49m\u001b[43mflags\u001b[49m\u001b[43m)\u001b[49m\n\u001b[0;32m    744\u001b[0m \u001b[38;5;28;01melse\u001b[39;00m:\n\u001b[0;32m    745\u001b[0m     pattern \u001b[38;5;241m=\u001b[39m \u001b[38;5;28;01mNone\u001b[39;00m\n",
      "File \u001b[1;32m~\\AppData\\Local\\Programs\\Python\\Python311\\Lib\\re\\_parser.py:980\u001b[0m, in \u001b[0;36mparse\u001b[1;34m(str, flags, state)\u001b[0m\n\u001b[0;32m    977\u001b[0m state\u001b[38;5;241m.\u001b[39mflags \u001b[38;5;241m=\u001b[39m flags\n\u001b[0;32m    978\u001b[0m state\u001b[38;5;241m.\u001b[39mstr \u001b[38;5;241m=\u001b[39m \u001b[38;5;28mstr\u001b[39m\n\u001b[1;32m--> 980\u001b[0m p \u001b[38;5;241m=\u001b[39m \u001b[43m_parse_sub\u001b[49m\u001b[43m(\u001b[49m\u001b[43msource\u001b[49m\u001b[43m,\u001b[49m\u001b[43m \u001b[49m\u001b[43mstate\u001b[49m\u001b[43m,\u001b[49m\u001b[43m \u001b[49m\u001b[43mflags\u001b[49m\u001b[43m \u001b[49m\u001b[38;5;241;43m&\u001b[39;49m\u001b[43m \u001b[49m\u001b[43mSRE_FLAG_VERBOSE\u001b[49m\u001b[43m,\u001b[49m\u001b[43m \u001b[49m\u001b[38;5;241;43m0\u001b[39;49m\u001b[43m)\u001b[49m\n\u001b[0;32m    981\u001b[0m p\u001b[38;5;241m.\u001b[39mstate\u001b[38;5;241m.\u001b[39mflags \u001b[38;5;241m=\u001b[39m fix_flags(\u001b[38;5;28mstr\u001b[39m, p\u001b[38;5;241m.\u001b[39mstate\u001b[38;5;241m.\u001b[39mflags)\n\u001b[0;32m    983\u001b[0m \u001b[38;5;28;01mif\u001b[39;00m source\u001b[38;5;241m.\u001b[39mnext \u001b[38;5;129;01mis\u001b[39;00m \u001b[38;5;129;01mnot\u001b[39;00m \u001b[38;5;28;01mNone\u001b[39;00m:\n",
      "File \u001b[1;32m~\\AppData\\Local\\Programs\\Python\\Python311\\Lib\\re\\_parser.py:455\u001b[0m, in \u001b[0;36m_parse_sub\u001b[1;34m(source, state, verbose, nested)\u001b[0m\n\u001b[0;32m    453\u001b[0m start \u001b[38;5;241m=\u001b[39m source\u001b[38;5;241m.\u001b[39mtell()\n\u001b[0;32m    454\u001b[0m \u001b[38;5;28;01mwhile\u001b[39;00m \u001b[38;5;28;01mTrue\u001b[39;00m:\n\u001b[1;32m--> 455\u001b[0m     itemsappend(\u001b[43m_parse\u001b[49m\u001b[43m(\u001b[49m\u001b[43msource\u001b[49m\u001b[43m,\u001b[49m\u001b[43m \u001b[49m\u001b[43mstate\u001b[49m\u001b[43m,\u001b[49m\u001b[43m \u001b[49m\u001b[43mverbose\u001b[49m\u001b[43m,\u001b[49m\u001b[43m \u001b[49m\u001b[43mnested\u001b[49m\u001b[43m \u001b[49m\u001b[38;5;241;43m+\u001b[39;49m\u001b[43m \u001b[49m\u001b[38;5;241;43m1\u001b[39;49m\u001b[43m,\u001b[49m\n\u001b[0;32m    456\u001b[0m \u001b[43m                       \u001b[49m\u001b[38;5;129;43;01mnot\u001b[39;49;00m\u001b[43m \u001b[49m\u001b[43mnested\u001b[49m\u001b[43m \u001b[49m\u001b[38;5;129;43;01mand\u001b[39;49;00m\u001b[43m \u001b[49m\u001b[38;5;129;43;01mnot\u001b[39;49;00m\u001b[43m \u001b[49m\u001b[43mitems\u001b[49m\u001b[43m)\u001b[49m)\n\u001b[0;32m    457\u001b[0m     \u001b[38;5;28;01mif\u001b[39;00m \u001b[38;5;129;01mnot\u001b[39;00m sourcematch(\u001b[38;5;124m\"\u001b[39m\u001b[38;5;124m|\u001b[39m\u001b[38;5;124m\"\u001b[39m):\n\u001b[0;32m    458\u001b[0m         \u001b[38;5;28;01mbreak\u001b[39;00m\n",
      "File \u001b[1;32m~\\AppData\\Local\\Programs\\Python\\Python311\\Lib\\re\\_parser.py:612\u001b[0m, in \u001b[0;36m_parse\u001b[1;34m(source, state, verbose, nested, first)\u001b[0m\n\u001b[0;32m    610\u001b[0m     \u001b[38;5;28;01mif\u001b[39;00m hi \u001b[38;5;241m<\u001b[39m lo:\n\u001b[0;32m    611\u001b[0m         msg \u001b[38;5;241m=\u001b[39m \u001b[38;5;124m\"\u001b[39m\u001b[38;5;124mbad character range \u001b[39m\u001b[38;5;132;01m%s\u001b[39;00m\u001b[38;5;124m-\u001b[39m\u001b[38;5;132;01m%s\u001b[39;00m\u001b[38;5;124m\"\u001b[39m \u001b[38;5;241m%\u001b[39m (this, that)\n\u001b[1;32m--> 612\u001b[0m         \u001b[38;5;28;01mraise\u001b[39;00m source\u001b[38;5;241m.\u001b[39merror(msg, \u001b[38;5;28mlen\u001b[39m(this) \u001b[38;5;241m+\u001b[39m \u001b[38;5;241m1\u001b[39m \u001b[38;5;241m+\u001b[39m \u001b[38;5;28mlen\u001b[39m(that))\n\u001b[0;32m    613\u001b[0m     setappend((RANGE, (lo, hi)))\n\u001b[0;32m    614\u001b[0m \u001b[38;5;28;01melse\u001b[39;00m:\n",
      "\u001b[1;31merror\u001b[0m: bad character range a-Z at position 1"
     ]
    }
   ],
   "source": [
    "x= re.search(\"[a-Z]ai\",txt)\n",
    "printDetails(x)"
   ]
  },
  {
   "cell_type": "code",
   "execution_count": 25,
   "id": "ba7da06f",
   "metadata": {
    "id": "ba7da06f",
    "outputId": "24cf61af-3fc5-4c69-d0b8-4534845ec0b2"
   },
   "outputs": [
    {
     "name": "stdout",
     "output_type": "stream",
     "text": [
      "Om Sri \u001b[91msai\u001b[39m Ram\n"
     ]
    }
   ],
   "source": [
    "txt= 'Om Sri sai Ram'\n",
    "x= re.search(\"[s^S]ai\",txt) # It trie to find either Sai or sai in the text\n",
    "printDetails(x)"
   ]
  },
  {
   "cell_type": "code",
   "execution_count": 26,
   "id": "0991a763",
   "metadata": {
    "id": "0991a763",
    "outputId": "90eea0fb-eb98-418a-fcec-de579e4d3568"
   },
   "outputs": [
    {
     "name": "stdout",
     "output_type": "stream",
     "text": [
      "Not found\n"
     ]
    }
   ],
   "source": [
    "x= re.search(\"[^s]ai\",txt)  # it will find for all characters except lower case letter s \n",
    "printDetails(x)"
   ]
  },
  {
   "cell_type": "code",
   "execution_count": 27,
   "id": "03b23ed2",
   "metadata": {
    "id": "03b23ed2",
    "outputId": "aba86a60-2b6e-4c96-dd16-33f5bef34113"
   },
   "outputs": [
    {
     "name": "stdout",
     "output_type": "stream",
     "text": [
      "Om Sri \u001b[91msai\u001b[39m Ram\n"
     ]
    }
   ],
   "source": [
    "x= re.search(\"[^0-9]ai\",txt)  #negates the number followed by ai so we will find the word\n",
    "printDetails(x)"
   ]
  },
  {
   "cell_type": "code",
   "execution_count": 31,
   "id": "6db79cd4",
   "metadata": {
    "id": "6db79cd4",
    "outputId": "b0506da7-f632-450c-eaac-3027a615ede8"
   },
   "outputs": [
    {
     "name": "stdout",
     "output_type": "stream",
     "text": [
      "Not found\n"
     ]
    }
   ],
   "source": [
    "txt= 'Om Sri sai Ram'\n",
    "x= re.search(\"[^s-z]ai\",txt)  #negates the lower case letter from s-z followed by ai  followed by ai so we will find the word\n",
    "printDetails(x)"
   ]
  },
  {
   "cell_type": "code",
   "execution_count": 32,
   "id": "c330390d",
   "metadata": {
    "id": "c330390d",
    "outputId": "bcec4054-421a-4482-8ea6-67d8ee3fdc8a"
   },
   "outputs": [
    {
     "name": "stdout",
     "output_type": "stream",
     "text": [
      "Om Sri \u001b[91msai\u001b[39m Ram\n"
     ]
    }
   ],
   "source": [
    "x= re.search(\"[^.]ai\",txt) #it negates the dot and finds any character set followed by ai \n",
    "printDetails(x)"
   ]
  },
  {
   "cell_type": "code",
   "execution_count": 38,
   "id": "6db94917",
   "metadata": {
    "id": "6db94917",
    "outputId": "a206a4ca-2570-4706-cd76-0e3d787bc772"
   },
   "outputs": [
    {
     "name": "stdout",
     "output_type": "stream",
     "text": [
      "Not found\n"
     ]
    }
   ],
   "source": [
    "txt= 'Om Sri Sai ram'\n",
    "x= re.search(\"[s^]ai\",txt) #it is a disjunction for s or caret followed by ai it is differnt from [^s]ai\n",
    "printDetails(x)"
   ]
  },
  {
   "cell_type": "code",
   "execution_count": 39,
   "id": "93d9d640",
   "metadata": {
    "id": "93d9d640",
    "outputId": "536babfc-8546-4f91-87d8-2913dc53b91a"
   },
   "outputs": [
    {
     "name": "stdout",
     "output_type": "stream",
     "text": [
      "Om Sri \u001b[91mSai\u001b[39m ram\n"
     ]
    }
   ],
   "source": [
    "x= re.search(\"[S^]ai\",txt)  #it is a disjunction for S or caret followed by ai it is differnt from [^s]ai\n",
    "printDetails(x)"
   ]
  },
  {
   "cell_type": "code",
   "execution_count": 40,
   "id": "8c3b5799",
   "metadata": {
    "id": "8c3b5799",
    "outputId": "b7aceab5-f900-47dd-85d2-c958b635d290"
   },
   "outputs": [
    {
     "name": "stdout",
     "output_type": "stream",
     "text": [
      "Om Sri \u001b[91mSai\u001b[39m ram\n"
     ]
    }
   ],
   "source": [
    "x= re.search(\"[S^a]ai\",txt)  # Either S or Caret or a Followed by ai \n",
    "printDetails(x)"
   ]
  },
  {
   "cell_type": "code",
   "execution_count": 46,
   "id": "0b64e0e1",
   "metadata": {
    "id": "0b64e0e1",
    "outputId": "5cdb5cb4-ab8b-491d-a818-a4e2c7c8e231"
   },
   "outputs": [
    {
     "name": "stdout",
     "output_type": "stream",
     "text": [
      "Not found\n"
     ]
    }
   ],
   "source": [
    "txt= 'om Sri Sai Ram.Sai'\n",
    "x= re.search(\"^Sai\",txt)   #It will match only when Sai is in the bigning of string \n",
    "printDetails(x)"
   ]
  },
  {
   "cell_type": "code",
   "execution_count": 49,
   "id": "1a190efa",
   "metadata": {
    "id": "74ce2941",
    "outputId": "faebbe61-6a79-4ec8-fc69-6df8151217fe"
   },
   "outputs": [
    {
     "name": "stdout",
     "output_type": "stream",
     "text": [
      "Not found\n"
     ]
    }
   ],
   "source": [
    "txt= 'Om Sri S'\n",
    "x= re.search(\"Sai?\",txt)  #In this Sai? it is optional for i to occur it finds either sa or sai \n",
    "printDetails(x)"
   ]
  },
  {
   "cell_type": "code",
   "execution_count": 51,
   "id": "8003046f",
   "metadata": {
    "id": "8003046f",
    "outputId": "7fb68ed2-3e0e-4f0c-ed53-d1ad4f9b10a9"
   },
   "outputs": [
    {
     "name": "stdout",
     "output_type": "stream",
     "text": [
      "Om \u001b[91mS\u001b[39mri S\n"
     ]
    }
   ],
   "source": [
    "x= re.search(\"Sa?\",txt) #it will find because  a is optional here \n",
    "printDetails(x)"
   ]
  },
  {
   "cell_type": "code",
   "execution_count": 52,
   "id": "0ed8c0de",
   "metadata": {
    "id": "0ed8c0de",
    "outputId": "a010e0b3-cb23-479e-8faf-c94c79b19e30"
   },
   "outputs": [
    {
     "name": "stdout",
     "output_type": "stream",
     "text": [
      "Om Sr Si Ram\n",
      "Om Sr \u001b[91mSi\u001b[39m Ram\n"
     ]
    }
   ],
   "source": [
    "txt= 'Om Sr Si Ram'\n",
    "print(txt)\n",
    "x= re.search(\"S?i\",txt) # Here s is optional it  will find either i or si \n",
    "printDetails(x)"
   ]
  },
  {
   "cell_type": "code",
   "execution_count": 53,
   "id": "6c627176",
   "metadata": {
    "id": "6c627176",
    "outputId": "0c1a6ed1-775f-4210-c117-cd0c1039a8ee"
   },
   "outputs": [
    {
     "ename": "error",
     "evalue": "nothing to repeat at position 0",
     "output_type": "error",
     "traceback": [
      "\u001b[1;31m---------------------------------------------------------------------------\u001b[0m",
      "\u001b[1;31merror\u001b[0m                                     Traceback (most recent call last)",
      "Cell \u001b[1;32mIn[53], line 1\u001b[0m\n\u001b[1;32m----> 1\u001b[0m x\u001b[38;5;241m=\u001b[39m \u001b[43mre\u001b[49m\u001b[38;5;241;43m.\u001b[39;49m\u001b[43msearch\u001b[49m\u001b[43m(\u001b[49m\u001b[38;5;124;43m\"\u001b[39;49m\u001b[38;5;124;43m?\u001b[39;49m\u001b[38;5;124;43m\"\u001b[39;49m\u001b[43m,\u001b[49m\u001b[43mtxt\u001b[49m\u001b[43m)\u001b[49m\n\u001b[0;32m      2\u001b[0m printDetails(x)\n",
      "File \u001b[1;32m~\\AppData\\Local\\Programs\\Python\\Python311\\Lib\\re\\__init__.py:176\u001b[0m, in \u001b[0;36msearch\u001b[1;34m(pattern, string, flags)\u001b[0m\n\u001b[0;32m    173\u001b[0m \u001b[38;5;28;01mdef\u001b[39;00m \u001b[38;5;21msearch\u001b[39m(pattern, string, flags\u001b[38;5;241m=\u001b[39m\u001b[38;5;241m0\u001b[39m):\n\u001b[0;32m    174\u001b[0m \u001b[38;5;250m    \u001b[39m\u001b[38;5;124;03m\"\"\"Scan through string looking for a match to the pattern, returning\u001b[39;00m\n\u001b[0;32m    175\u001b[0m \u001b[38;5;124;03m    a Match object, or None if no match was found.\"\"\"\u001b[39;00m\n\u001b[1;32m--> 176\u001b[0m     \u001b[38;5;28;01mreturn\u001b[39;00m \u001b[43m_compile\u001b[49m\u001b[43m(\u001b[49m\u001b[43mpattern\u001b[49m\u001b[43m,\u001b[49m\u001b[43m \u001b[49m\u001b[43mflags\u001b[49m\u001b[43m)\u001b[49m\u001b[38;5;241m.\u001b[39msearch(string)\n",
      "File \u001b[1;32m~\\AppData\\Local\\Programs\\Python\\Python311\\Lib\\re\\__init__.py:294\u001b[0m, in \u001b[0;36m_compile\u001b[1;34m(pattern, flags)\u001b[0m\n\u001b[0;32m    288\u001b[0m     \u001b[38;5;28;01mimport\u001b[39;00m \u001b[38;5;21;01mwarnings\u001b[39;00m\n\u001b[0;32m    289\u001b[0m     warnings\u001b[38;5;241m.\u001b[39mwarn(\u001b[38;5;124m\"\u001b[39m\u001b[38;5;124mThe re.TEMPLATE/re.T flag is deprecated \u001b[39m\u001b[38;5;124m\"\u001b[39m\n\u001b[0;32m    290\u001b[0m               \u001b[38;5;124m\"\u001b[39m\u001b[38;5;124mas it is an undocumented flag \u001b[39m\u001b[38;5;124m\"\u001b[39m\n\u001b[0;32m    291\u001b[0m               \u001b[38;5;124m\"\u001b[39m\u001b[38;5;124mwithout an obvious purpose. \u001b[39m\u001b[38;5;124m\"\u001b[39m\n\u001b[0;32m    292\u001b[0m               \u001b[38;5;124m\"\u001b[39m\u001b[38;5;124mDon\u001b[39m\u001b[38;5;124m'\u001b[39m\u001b[38;5;124mt use it.\u001b[39m\u001b[38;5;124m\"\u001b[39m,\n\u001b[0;32m    293\u001b[0m               \u001b[38;5;167;01mDeprecationWarning\u001b[39;00m)\n\u001b[1;32m--> 294\u001b[0m p \u001b[38;5;241m=\u001b[39m \u001b[43m_compiler\u001b[49m\u001b[38;5;241;43m.\u001b[39;49m\u001b[43mcompile\u001b[49m\u001b[43m(\u001b[49m\u001b[43mpattern\u001b[49m\u001b[43m,\u001b[49m\u001b[43m \u001b[49m\u001b[43mflags\u001b[49m\u001b[43m)\u001b[49m\n\u001b[0;32m    295\u001b[0m \u001b[38;5;28;01mif\u001b[39;00m \u001b[38;5;129;01mnot\u001b[39;00m (flags \u001b[38;5;241m&\u001b[39m DEBUG):\n\u001b[0;32m    296\u001b[0m     \u001b[38;5;28;01mif\u001b[39;00m \u001b[38;5;28mlen\u001b[39m(_cache) \u001b[38;5;241m>\u001b[39m\u001b[38;5;241m=\u001b[39m _MAXCACHE:\n\u001b[0;32m    297\u001b[0m         \u001b[38;5;66;03m# Drop the oldest item\u001b[39;00m\n",
      "File \u001b[1;32m~\\AppData\\Local\\Programs\\Python\\Python311\\Lib\\re\\_compiler.py:743\u001b[0m, in \u001b[0;36mcompile\u001b[1;34m(p, flags)\u001b[0m\n\u001b[0;32m    741\u001b[0m \u001b[38;5;28;01mif\u001b[39;00m isstring(p):\n\u001b[0;32m    742\u001b[0m     pattern \u001b[38;5;241m=\u001b[39m p\n\u001b[1;32m--> 743\u001b[0m     p \u001b[38;5;241m=\u001b[39m \u001b[43m_parser\u001b[49m\u001b[38;5;241;43m.\u001b[39;49m\u001b[43mparse\u001b[49m\u001b[43m(\u001b[49m\u001b[43mp\u001b[49m\u001b[43m,\u001b[49m\u001b[43m \u001b[49m\u001b[43mflags\u001b[49m\u001b[43m)\u001b[49m\n\u001b[0;32m    744\u001b[0m \u001b[38;5;28;01melse\u001b[39;00m:\n\u001b[0;32m    745\u001b[0m     pattern \u001b[38;5;241m=\u001b[39m \u001b[38;5;28;01mNone\u001b[39;00m\n",
      "File \u001b[1;32m~\\AppData\\Local\\Programs\\Python\\Python311\\Lib\\re\\_parser.py:980\u001b[0m, in \u001b[0;36mparse\u001b[1;34m(str, flags, state)\u001b[0m\n\u001b[0;32m    977\u001b[0m state\u001b[38;5;241m.\u001b[39mflags \u001b[38;5;241m=\u001b[39m flags\n\u001b[0;32m    978\u001b[0m state\u001b[38;5;241m.\u001b[39mstr \u001b[38;5;241m=\u001b[39m \u001b[38;5;28mstr\u001b[39m\n\u001b[1;32m--> 980\u001b[0m p \u001b[38;5;241m=\u001b[39m \u001b[43m_parse_sub\u001b[49m\u001b[43m(\u001b[49m\u001b[43msource\u001b[49m\u001b[43m,\u001b[49m\u001b[43m \u001b[49m\u001b[43mstate\u001b[49m\u001b[43m,\u001b[49m\u001b[43m \u001b[49m\u001b[43mflags\u001b[49m\u001b[43m \u001b[49m\u001b[38;5;241;43m&\u001b[39;49m\u001b[43m \u001b[49m\u001b[43mSRE_FLAG_VERBOSE\u001b[49m\u001b[43m,\u001b[49m\u001b[43m \u001b[49m\u001b[38;5;241;43m0\u001b[39;49m\u001b[43m)\u001b[49m\n\u001b[0;32m    981\u001b[0m p\u001b[38;5;241m.\u001b[39mstate\u001b[38;5;241m.\u001b[39mflags \u001b[38;5;241m=\u001b[39m fix_flags(\u001b[38;5;28mstr\u001b[39m, p\u001b[38;5;241m.\u001b[39mstate\u001b[38;5;241m.\u001b[39mflags)\n\u001b[0;32m    983\u001b[0m \u001b[38;5;28;01mif\u001b[39;00m source\u001b[38;5;241m.\u001b[39mnext \u001b[38;5;129;01mis\u001b[39;00m \u001b[38;5;129;01mnot\u001b[39;00m \u001b[38;5;28;01mNone\u001b[39;00m:\n",
      "File \u001b[1;32m~\\AppData\\Local\\Programs\\Python\\Python311\\Lib\\re\\_parser.py:455\u001b[0m, in \u001b[0;36m_parse_sub\u001b[1;34m(source, state, verbose, nested)\u001b[0m\n\u001b[0;32m    453\u001b[0m start \u001b[38;5;241m=\u001b[39m source\u001b[38;5;241m.\u001b[39mtell()\n\u001b[0;32m    454\u001b[0m \u001b[38;5;28;01mwhile\u001b[39;00m \u001b[38;5;28;01mTrue\u001b[39;00m:\n\u001b[1;32m--> 455\u001b[0m     itemsappend(\u001b[43m_parse\u001b[49m\u001b[43m(\u001b[49m\u001b[43msource\u001b[49m\u001b[43m,\u001b[49m\u001b[43m \u001b[49m\u001b[43mstate\u001b[49m\u001b[43m,\u001b[49m\u001b[43m \u001b[49m\u001b[43mverbose\u001b[49m\u001b[43m,\u001b[49m\u001b[43m \u001b[49m\u001b[43mnested\u001b[49m\u001b[43m \u001b[49m\u001b[38;5;241;43m+\u001b[39;49m\u001b[43m \u001b[49m\u001b[38;5;241;43m1\u001b[39;49m\u001b[43m,\u001b[49m\n\u001b[0;32m    456\u001b[0m \u001b[43m                       \u001b[49m\u001b[38;5;129;43;01mnot\u001b[39;49;00m\u001b[43m \u001b[49m\u001b[43mnested\u001b[49m\u001b[43m \u001b[49m\u001b[38;5;129;43;01mand\u001b[39;49;00m\u001b[43m \u001b[49m\u001b[38;5;129;43;01mnot\u001b[39;49;00m\u001b[43m \u001b[49m\u001b[43mitems\u001b[49m\u001b[43m)\u001b[49m)\n\u001b[0;32m    457\u001b[0m     \u001b[38;5;28;01mif\u001b[39;00m \u001b[38;5;129;01mnot\u001b[39;00m sourcematch(\u001b[38;5;124m\"\u001b[39m\u001b[38;5;124m|\u001b[39m\u001b[38;5;124m\"\u001b[39m):\n\u001b[0;32m    458\u001b[0m         \u001b[38;5;28;01mbreak\u001b[39;00m\n",
      "File \u001b[1;32m~\\AppData\\Local\\Programs\\Python\\Python311\\Lib\\re\\_parser.py:682\u001b[0m, in \u001b[0;36m_parse\u001b[1;34m(source, state, verbose, nested, first)\u001b[0m\n\u001b[0;32m    680\u001b[0m     item \u001b[38;5;241m=\u001b[39m \u001b[38;5;28;01mNone\u001b[39;00m\n\u001b[0;32m    681\u001b[0m \u001b[38;5;28;01mif\u001b[39;00m \u001b[38;5;129;01mnot\u001b[39;00m item \u001b[38;5;129;01mor\u001b[39;00m item[\u001b[38;5;241m0\u001b[39m][\u001b[38;5;241m0\u001b[39m] \u001b[38;5;129;01mis\u001b[39;00m AT:\n\u001b[1;32m--> 682\u001b[0m     \u001b[38;5;28;01mraise\u001b[39;00m source\u001b[38;5;241m.\u001b[39merror(\u001b[38;5;124m\"\u001b[39m\u001b[38;5;124mnothing to repeat\u001b[39m\u001b[38;5;124m\"\u001b[39m,\n\u001b[0;32m    683\u001b[0m                        source\u001b[38;5;241m.\u001b[39mtell() \u001b[38;5;241m-\u001b[39m here \u001b[38;5;241m+\u001b[39m \u001b[38;5;28mlen\u001b[39m(this))\n\u001b[0;32m    684\u001b[0m \u001b[38;5;28;01mif\u001b[39;00m item[\u001b[38;5;241m0\u001b[39m][\u001b[38;5;241m0\u001b[39m] \u001b[38;5;129;01min\u001b[39;00m _REPEATCODES:\n\u001b[0;32m    685\u001b[0m     \u001b[38;5;28;01mraise\u001b[39;00m source\u001b[38;5;241m.\u001b[39merror(\u001b[38;5;124m\"\u001b[39m\u001b[38;5;124mmultiple repeat\u001b[39m\u001b[38;5;124m\"\u001b[39m,\n\u001b[0;32m    686\u001b[0m                        source\u001b[38;5;241m.\u001b[39mtell() \u001b[38;5;241m-\u001b[39m here \u001b[38;5;241m+\u001b[39m \u001b[38;5;28mlen\u001b[39m(this))\n",
      "\u001b[1;31merror\u001b[0m: nothing to repeat at position 0"
     ]
    }
   ],
   "source": [
    "x= re.search(\"?\",txt)\n",
    "printDetails(x)"
   ]
  },
  {
   "cell_type": "code",
   "execution_count": 54,
   "id": "77da02eb",
   "metadata": {
    "id": "77da02eb",
    "outputId": "6b2f11ad-99f9-4469-cb78-87643074c234"
   },
   "outputs": [
    {
     "name": "stdout",
     "output_type": "stream",
     "text": [
      "Not found\n"
     ]
    }
   ],
   "source": [
    "x= re.search(\"\\?\",txt)\n",
    "printDetails(x)"
   ]
  },
  {
   "cell_type": "code",
   "execution_count": 55,
   "id": "8244052e",
   "metadata": {
    "id": "8244052e",
    "outputId": "63bfa0fa-bd20-4df2-fb36-0502601d3b91"
   },
   "outputs": [
    {
     "name": "stdout",
     "output_type": "stream",
     "text": [
      "\u001b[91mbaba\u001b[39m baabaa baaaabaaa\n"
     ]
    }
   ],
   "source": [
    "txt= \"baba baabaa baaaabaaa\"\n",
    "x= re.search(\"baba\",txt)\n",
    "printDetails(x)"
   ]
  },
  {
   "cell_type": "code",
   "execution_count": 56,
   "id": "aba38181",
   "metadata": {
    "id": "aba38181",
    "outputId": "59342a2c-62fa-491d-8fb6-6cf022ae2808"
   },
   "outputs": [
    {
     "name": "stdout",
     "output_type": "stream",
     "text": [
      "\u001b[91mbb\u001b[39m\n"
     ]
    }
   ],
   "source": [
    "txt= \"bb\"\n",
    "x= re.search(\"ba*ba*\",txt) # Here * represents it can occur zero or any number of times \n",
    "printDetails(x) "
   ]
  },
  {
   "cell_type": "code",
   "execution_count": 57,
   "id": "1a80510a",
   "metadata": {
    "id": "1a80510a",
    "outputId": "0ba36446-eccd-498d-c9e7-b9ebe329b0b4"
   },
   "outputs": [
    {
     "name": "stdout",
     "output_type": "stream",
     "text": [
      "\u001b[91mbaabaa\u001b[39m baaaabaaa\n"
     ]
    }
   ],
   "source": [
    "txt= \"baabaa baaaabaaa\"\n",
    "x= re.search(\"baa*baa*\",txt)  \n",
    "printDetails(x)"
   ]
  },
  {
   "cell_type": "code",
   "execution_count": 58,
   "id": "c08b440c",
   "metadata": {
    "id": "c08b440c",
    "outputId": "c5d864cf-fc8b-4507-af4a-4cc41c3730cf"
   },
   "outputs": [
    {
     "name": "stdout",
     "output_type": "stream",
     "text": [
      "['bba', 'baabaa', 'baaaabaaa']\n"
     ]
    }
   ],
   "source": [
    "txt= \"bba baabaa baaaabaaa\"\n",
    "x= re.findall(\"ba*ba*\",txt)\n",
    "print(x)"
   ]
  },
  {
   "cell_type": "code",
   "execution_count": 59,
   "id": "fea9c906",
   "metadata": {
    "id": "fea9c906",
    "outputId": "dd9a4e66-7996-496f-982a-420d14d2bdfc"
   },
   "outputs": [
    {
     "name": "stdout",
     "output_type": "stream",
     "text": [
      "['baabaa', 'baaaabaaa']\n"
     ]
    }
   ],
   "source": [
    "txt= \"bba baabaa baaaabaaa\"\n",
    "x= re.findall(\"baa*baa*\",txt)\n",
    "print(x)"
   ]
  },
  {
   "cell_type": "code",
   "execution_count": 60,
   "id": "fa770285",
   "metadata": {
    "id": "fa770285",
    "outputId": "357ef4bf-bef6-4ffe-e2aa-d85c7c5ec716"
   },
   "outputs": [
    {
     "name": "stdout",
     "output_type": "stream",
     "text": [
      "['baabaa', 'baaaabaaa']\n"
     ]
    }
   ],
   "source": [
    "txt= \"baba baabaa baaaabaaa\"\n",
    "x= re.findall(\"baaa*baaa*\",txt)\n",
    "print(x)"
   ]
  },
  {
   "cell_type": "code",
   "execution_count": 61,
   "id": "5d6f95e2",
   "metadata": {
    "id": "5d6f95e2",
    "outputId": "92ec0cc1-9a5e-4eae-e5fd-4cea17238f81"
   },
   "outputs": [
    {
     "name": "stdout",
     "output_type": "stream",
     "text": [
      "<re.Match object; span=(0, 0), match=''>\n",
      "['', '', 'ba', '', '', '', '']\n"
     ]
    }
   ],
   "source": [
    "txt= \"ggbadef\"\n",
    "x= re.search(\"b*a*\",txt)\n",
    "print(x)\n",
    "x= re.findall(\"b*a*\",txt)   # Here b can appear zero or any number of times and a can occur zero or any number of times \n",
    "print(x)"
   ]
  },
  {
   "cell_type": "code",
   "execution_count": 62,
   "id": "c378023c",
   "metadata": {
    "id": "c378023c",
    "outputId": "3665e17b-aed4-4cda-f298-cdb0268e94cf"
   },
   "outputs": [
    {
     "name": "stdout",
     "output_type": "stream",
     "text": [
      "\u001b[91mba\u001b[39mba baabaa baaaabaaa\n",
      "['ba', 'ba', '', 'baa', 'baa', '', 'baaaa', 'baaa', '']\n"
     ]
    }
   ],
   "source": [
    "txt= \"baba baabaa baaaabaaa\"\n",
    "x= re.search(\"b*a*\",txt)\n",
    "printDetails(x)\n",
    "x= re.findall(\"b*a*\",txt)  # \n",
    "print(x)"
   ]
  },
  {
   "cell_type": "code",
   "execution_count": 63,
   "id": "fc9df36d",
   "metadata": {
    "id": "fc9df36d",
    "outputId": "8c24aa1b-f76b-4910-d906-2a0f48d5b5ee"
   },
   "outputs": [
    {
     "name": "stdout",
     "output_type": "stream",
     "text": [
      "\u001b[91mbabaaaaaabbbb\u001b[39m cccc\n",
      "['babaaaaaabbbb', '', '', '', '', '', '']\n"
     ]
    }
   ],
   "source": [
    "txt= \"babaaaaaabbbb cccc\"\n",
    "x= re.search(\"[ba]*\",txt)\n",
    "printDetails(x)\n",
    "x= re.findall(\"[ba]*\",txt)\n",
    "print(x)"
   ]
  },
  {
   "cell_type": "code",
   "execution_count": 66,
   "id": "8d4a3e93",
   "metadata": {
    "id": "8d4a3e93",
    "outputId": "fa0e87b0-af30-40a7-abf8-5805af84e540"
   },
   "outputs": [
    {
     "name": "stdout",
     "output_type": "stream",
     "text": [
      "\u001b[91mbaba\u001b[39m aaaaa bbbb cccc\n",
      "['baba', 'aaaaa', 'bbbb']\n"
     ]
    }
   ],
   "source": [
    "txt= \"baba aaaaa bbbb cccc\"\n",
    "x= re.search(\"[ba][ba]*\",txt)\n",
    "printDetails(x)\n",
    "x= re.findall(\"[ba][ba]*\",txt)\n",
    "print(x)"
   ]
  },
  {
   "cell_type": "code",
   "execution_count": null,
   "id": "1f78ec22",
   "metadata": {
    "id": "1f78ec22",
    "outputId": "96fd30e5-e73a-4d01-adc4-c9920fba5b8a"
   },
   "outputs": [],
   "source": [
    "txt= \"baba aaaaa bbbb cccc\"\n",
    "x= re.search(\"[ba]+\",txt)\n",
    "printDetails(x)\n",
    "x= re.findall(\"[ba]+\",txt)\n",
    "print(x)"
   ]
  },
  {
   "cell_type": "code",
   "execution_count": 67,
   "id": "990e231e",
   "metadata": {
    "id": "990e231e",
    "outputId": "4b010f4a-dca8-4e50-8041-37118064efca"
   },
   "outputs": [
    {
     "name": "stdout",
     "output_type": "stream",
     "text": [
      "bba bca bsc msc a\n",
      "a\n",
      "\u001b[91mbba bca bsc msc a\u001b[39m\n",
      "a\n",
      "['bba bca bsc msc a']\n"
     ]
    }
   ],
   "source": [
    "txt= \"bba bca bsc msc a\\na\"\n",
    "print(txt)\n",
    "x= re.search(\"b.*a\",txt)\n",
    "printDetails(x)\n",
    "x= re.findall(\"b.*a\",txt)\n",
    "print(x)"
   ]
  },
  {
   "cell_type": "code",
   "execution_count": 68,
   "id": "0c9ebcb1",
   "metadata": {
    "id": "0c9ebcb1",
    "outputId": "07731d88-cf93-4b0a-ddd3-31a430075588"
   },
   "outputs": [
    {
     "name": "stdout",
     "output_type": "stream",
     "text": [
      "first line \n",
      " dog \u001b[91mcats\u001b[39m dog cats dog second line \n",
      " third line cats \n",
      " fourth line cats dog catssssd\n",
      "['cats', 'cats', 'cats', 'cats', 'catssss']\n"
     ]
    }
   ],
   "source": [
    "#Find the statement with two cats\n",
    "txt= \"first line \\n dog cats dog cats dog second line \\n third line cats \\n fourth line cats dog catssssd\"\n",
    "x= re.search(\"cats+\",txt)\n",
    "printDetails(x)     # +: This is a quantifier that matches the preceding character or group one or more times. It means \"s\" can appear one or more times, but it should be consecutive.\n",
    "x= re.findall(\"cats+\",txt) \n",
    "print(x)"
   ]
  },
  {
   "cell_type": "code",
   "execution_count": 69,
   "id": "8f758483",
   "metadata": {
    "id": "8f758483",
    "outputId": "3107c59c-08cf-4f94-a261-6088659d874c"
   },
   "outputs": [
    {
     "name": "stdout",
     "output_type": "stream",
     "text": [
      "first line \n",
      " dog catscats dog dog second line \n",
      " third line cats \n",
      " fourth line \u001b[91mcats dog cats\u001b[39msssd\n",
      "['cats dog cats']\n"
     ]
    }
   ],
   "source": [
    "#Find the statement with two cats\n",
    "txt= \"first line \\n dog catscats dog dog second line \\n third line cats \\n fourth line cats dog catssssd\"\n",
    "#txt= \"first line \\n dog catscats dog dog second line \\n third line cats cats fourth line cats dog catssssd\"\n",
    "x= re.search(\"cats.+cats\",txt)\n",
    "printDetails(x)\n",
    "x= re.findall(\"cats.+cats\",txt)\n",
    "print(x)"
   ]
  },
  {
   "cell_type": "code",
   "execution_count": 70,
   "id": "470fa35c",
   "metadata": {
    "id": "470fa35c",
    "outputId": "a165a705-6c95-4145-9772-7e293e3e142a"
   },
   "outputs": [
    {
     "name": "stdout",
     "output_type": "stream",
     "text": [
      "first line \n",
      " dog \u001b[91mcatscats\u001b[39m dog dog second line \n",
      " third line cats \n",
      " fourth line cats dog catssssd\n",
      "['catscats', 'cats dog cats']\n"
     ]
    }
   ],
   "source": [
    "#Find the statement with two cats\n",
    "txt= \"first line \\n dog catscats dog dog second line \\n third line cats \\n fourth line cats dog catssssd\"\n",
    "#txt= \"first line \\n dog catscats dog dog second line \\n third line cats cats fourth line cats dog catssssd\"\n",
    "x= re.search(\"cats.*cats\",txt)\n",
    "printDetails(x)\n",
    "x= re.findall(\"cats.*cats\",txt)\n",
    "print(x)"
   ]
  },
  {
   "cell_type": "code",
   "execution_count": 72,
   "id": "bbbed36a",
   "metadata": {
    "id": "bbbed36a",
    "outputId": "fb409553-8c27-46a8-b512-9ab768277328"
   },
   "outputs": [
    {
     "name": "stdout",
     "output_type": "stream",
     "text": [
      " The first line.\n",
      " The second line.\n",
      " The The third line.\n",
      "\u001b[91mThe\u001b[39m fourth line. \n",
      "['The']\n"
     ]
    }
   ],
   "source": [
    "txt= \" The first line.\\n The second line.\\n The The third line.\\nThe fourth line. \"\n",
    "x= re.search(\"^The\",txt, flags=re.MULTILINE)\n",
    "printDetails(x)\n",
    "x= re.findall(\"^The\",txt, flags=re.MULTILINE)\n",
    "print(x)"
   ]
  },
  {
   "cell_type": "code",
   "execution_count": 73,
   "id": "6460d629",
   "metadata": {
    "id": "6460d629",
    "outputId": "5fa12826-e88e-4b63-97de-c522ee5c37e5"
   },
   "outputs": [
    {
     "name": "stdout",
     "output_type": "stream",
     "text": [
      " The \u001b[91mfirst line\u001b[39m\n",
      " The second line.\n",
      "The third line\n",
      "The fourth line\n",
      "['first line']\n"
     ]
    }
   ],
   "source": [
    "txt= \" The first line\\n The second line.\\nThe third line\\nThe fourth line\"\n",
    "x= re.search(\"first line$\",txt, flags=re.MULTILINE)\n",
    "printDetails(x)\n",
    "x= re.findall(\"first line$\",txt, flags=re.MULTILINE)\n",
    "print(x)"
   ]
  },
  {
   "cell_type": "code",
   "execution_count": 74,
   "id": "2526075c",
   "metadata": {
    "id": "2526075c",
    "outputId": "674ba732-79a5-4356-e96a-1419e31b11fd"
   },
   "outputs": [
    {
     "name": "stdout",
     "output_type": "stream",
     "text": [
      " The first line\u001b[91m.\u001b[39m\n",
      " The second line.\n",
      "The third line.\n",
      "The fourth line. \n",
      "['.', '.', '.', ' ']\n"
     ]
    }
   ],
   "source": [
    "txt= \" The first line.\\n The second line.\\nThe third line.\\nThe fourth line. \"\n",
    "x= re.search(\".$\",txt, flags=re.MULTILINE)\n",
    "printDetails(x)\n",
    "x= re.findall(\".$\",txt, flags=re.MULTILINE)\n",
    "print(x)"
   ]
  },
  {
   "cell_type": "code",
   "execution_count": 75,
   "id": "df6bfba8",
   "metadata": {
    "id": "df6bfba8",
    "outputId": "a60a92c1-d1e7-450f-8c28-09cf9d25f5b0"
   },
   "outputs": [
    {
     "name": "stdout",
     "output_type": "stream",
     "text": [
      " The first line\u001b[91m.\u001b[39m\n",
      " The second line.\n",
      "The third line.\n",
      "The fourth line. \n",
      "['.', '.', '.']\n"
     ]
    }
   ],
   "source": [
    "txt= \" The first line.\\n The second line.\\nThe third line.\\nThe fourth line. \"\n",
    "x= re.search(\"\\.$\",txt, flags=re.MULTILINE)\n",
    "printDetails(x)\n",
    "x= re.findall(\"\\.$\",txt, flags=re.MULTILINE)\n",
    "print(x)"
   ]
  },
  {
   "cell_type": "code",
   "execution_count": 82,
   "id": "3c052a99",
   "metadata": {
    "id": "3c052a99",
    "outputId": "bbe4b2ab-8465-4350-c574-062c11577264"
   },
   "outputs": [
    {
     "name": "stdout",
     "output_type": "stream",
     "text": [
      "\u001b[91mthe\u001b[39mre is the. other in theirs\n",
      "[]\n"
     ]
    }
   ],
   "source": [
    "txt= \"there is the. other in theirs\"\n",
    "x= re.search(\"the\",txt)\n",
    "printDetails(x)\n",
    "x= re.findall(\" the \",txt)\n",
    "print(x)"
   ]
  },
  {
   "cell_type": "code",
   "execution_count": 83,
   "id": "b529aaac",
   "metadata": {
    "id": "b529aaac",
    "outputId": "661446e5-ce69-4c4a-eade-db01ca19a9ab"
   },
   "outputs": [
    {
     "name": "stdout",
     "output_type": "stream",
     "text": [
      "there is the other in theirs\n",
      "there is \u001b[91mthe\u001b[39m other in theirs\n",
      "['the']\n"
     ]
    }
   ],
   "source": [
    "txt= \"there is the other in theirs\"\n",
    "print(txt)\n",
    "x= re.search(r\"\\bthe\\b\",txt)  # Here We are giving word boundary \n",
    "printDetails(x)\n",
    "x= re.findall(\"\\\\bthe\\\\b\",txt)\n",
    "print(x)"
   ]
  },
  {
   "cell_type": "code",
   "execution_count": 85,
   "id": "23ef7629",
   "metadata": {
    "id": "23ef7629",
    "outputId": "f6abd0ab-6a97-48dc-c08f-9128b2110737"
   },
   "outputs": [
    {
     "name": "stdout",
     "output_type": "stream",
     "text": [
      "his reg no is \u001b[91m99\u001b[39m. his rank is 199. he bought a shirt for Rs. 299 which in dollars is $99\n",
      "['99', '99']\n"
     ]
    }
   ],
   "source": [
    "txt= \"his reg no is 99. his rank is 199. he bought a shirt for Rs. 299 which in dollars is $99\"\n",
    "x= re.search(\"\\\\b99\\\\b\",txt)\n",
    "printDetails(x)                 # Here we are giving boundry for number\n",
    "x= re.findall(\"\\\\b99\\\\b\",txt)\n",
    "print(x)"
   ]
  },
  {
   "cell_type": "code",
   "execution_count": 84,
   "id": "2753b33d",
   "metadata": {
    "id": "2753b33d",
    "outputId": "4768704d-35ea-4737-c80a-2f67db1f2f38"
   },
   "outputs": [
    {
     "name": "stdout",
     "output_type": "stream",
     "text": [
      "his reg no is \u001b[91m99\u001b[39m. his rank is 199. he bought a shirt for Rs. 299 which in dollars is $99\n",
      "his reg no is 99. his rank is 199. he bought a shirt for Rs. 299 which in dollars is $\u001b[91m99\u001b[39m\n"
     ]
    }
   ],
   "source": [
    "txt= \"his reg no is 99. his rank is 199. he bought a shirt for Rs. 299 which in dollars is $99\"\n",
    "x= re.finditer(\"\\\\b99\\\\b\",txt)\n",
    "for m in x:\n",
    "    printDetails(m)"
   ]
  },
  {
   "cell_type": "code",
   "execution_count": 89,
   "id": "1f9259f0",
   "metadata": {
    "id": "1f9259f0",
    "outputId": "1935a05f-cabf-43bc-b4d1-d1e8d8e8d74a"
   },
   "outputs": [
    {
     "name": "stdout",
     "output_type": "stream",
     "text": [
      "This line has none. \n",
      "This line has a \u001b[91mcat\u001b[39m.\n",
      "This line has a dog.\n",
      "This line has a cat and a dog.\n",
      "This line has none. \n",
      "This line has a cat.\n",
      "This line has a \u001b[91mdog\u001b[39m.\n",
      "This line has a cat and a dog.\n",
      "This line has none. \n",
      "This line has a cat.\n",
      "This line has a dog.\n",
      "This line has a \u001b[91mcat\u001b[39m and a dog.\n",
      "This line has none. \n",
      "This line has a cat.\n",
      "This line has a dog.\n",
      "This line has a cat and a \u001b[91mdog\u001b[39m.\n"
     ]
    }
   ],
   "source": [
    "#Find all cats or dogs. Why does'nt this work?\n",
    "txt= \"This line has none. \\nThis line has a cat.\\nThis line has a dog.\\nThis line has a cat and a dog.\"\n",
    "x= re.finditer(\"cat|dog\",txt)\n",
    "for m in x:\n",
    "    printDetails(m)"
   ]
  },
  {
   "cell_type": "code",
   "execution_count": 90,
   "id": "14ecadb1",
   "metadata": {
    "id": "14ecadb1",
    "outputId": "381d3e6a-0c5b-44a9-a3cc-576ed2d09f08"
   },
   "outputs": [
    {
     "name": "stdout",
     "output_type": "stream",
     "text": [
      "0\n",
      "This line has none. \n",
      "This line has a \u001b[91mcat\u001b[39m.\n",
      "This line has a dog.\n",
      "This line has a cat and a dog.\n",
      "1\n",
      "This line has none. \n",
      "This line has a cat.\n",
      "This line has a \u001b[91mdog\u001b[39m.\n",
      "This line has a cat and a dog.\n",
      "2\n",
      "This line has none. \n",
      "This line has a cat.\n",
      "This line has a dog.\n",
      "This line has a \u001b[91mcat\u001b[39m and a dog.\n",
      "3\n",
      "This line has none. \n",
      "This line has a cat.\n",
      "This line has a dog.\n",
      "This line has a cat and a \u001b[91mdog\u001b[39m.\n"
     ]
    }
   ],
   "source": [
    "#Find all cats or dogs.\n",
    "txt= \"This line has none. \\nThis line has a cat.\\nThis line has a dog.\\nThis line has a cat and a dog.\"\n",
    "x= re.finditer(\"cat|dog\",txt)\n",
    "for i,m in enumerate(x):\n",
    "    print(i)\n",
    "    printDetails(m)"
   ]
  },
  {
   "cell_type": "code",
   "execution_count": 91,
   "id": "1048ffc7",
   "metadata": {
    "id": "1048ffc7",
    "outputId": "00aad623-4171-4002-b83a-d6319e1c7cbc"
   },
   "outputs": [
    {
     "name": "stdout",
     "output_type": "stream",
     "text": [
      "0\n",
      "This line is \u001b[91mfunny\u001b[39m. \n",
      "This line is more funny.\n",
      "This line is funnier.\n",
      "This line has no fun but carrier.\n",
      "1\n",
      "This line is funny. \n",
      "This line is more \u001b[91mfunny\u001b[39m.\n",
      "This line is funnier.\n",
      "This line has no fun but carrier.\n",
      "2\n",
      "This line is funny. \n",
      "This line is more funny.\n",
      "This line is funn\u001b[91mier\u001b[39m.\n",
      "This line has no fun but carrier.\n",
      "3\n",
      "This line is funny. \n",
      "This line is more funny.\n",
      "This line is funnier.\n",
      "This line has no fun but carr\u001b[91mier\u001b[39m.\n"
     ]
    }
   ],
   "source": [
    "#Find all instances of funny or funnier.\n",
    "txt= \"This line is funny. \\nThis line is more funny.\\nThis line is funnier.\\nThis line has no fun but carrier.\"\n",
    "x= re.finditer(\"funny|ier\",txt)\n",
    "for i,m in enumerate(x):\n",
    "    print(i)\n",
    "    printDetails(m)"
   ]
  },
  {
   "cell_type": "code",
   "execution_count": 92,
   "id": "38b059d6",
   "metadata": {
    "id": "38b059d6",
    "outputId": "1e0b772a-5d05-4e1a-b461-6ce801992fd2"
   },
   "outputs": [
    {
     "name": "stdout",
     "output_type": "stream",
     "text": [
      "0\n",
      "This line is \u001b[91mfunny\u001b[39m. \n",
      "This line is more funny.\n",
      "This line is funnier.\n",
      "This line has no fun but carrier.\n",
      "1\n",
      "This line is funny. \n",
      "This line is more \u001b[91mfunny\u001b[39m.\n",
      "This line is funnier.\n",
      "This line has no fun but carrier.\n",
      "2\n",
      "This line is funny. \n",
      "This line is more funny.\n",
      "This line is \u001b[91mfunnier\u001b[39m.\n",
      "This line has no fun but carrier.\n"
     ]
    }
   ],
   "source": [
    "#Find all instances of funny or funnier.\n",
    "txt= \"This line is funny. \\nThis line is more funny.\\nThis line is funnier.\\nThis line has no fun but carrier.\"\n",
    "x= re.finditer(\"funn(y|ier)\",txt)\n",
    "for i,m in enumerate(x):\n",
    "    print(i)\n",
    "    printDetails(m)"
   ]
  },
  {
   "cell_type": "code",
   "execution_count": 93,
   "id": "47625a62",
   "metadata": {
    "id": "47625a62",
    "outputId": "ad3179dc-a0f6-45a5-b05f-d0debf8aa846"
   },
   "outputs": [
    {
     "name": "stdout",
     "output_type": "stream",
     "text": [
      "0\n",
      "This line has \u001b[91mCol13\u001b[39m. \n",
      "This line has Col13 and Col14.\n",
      "Only Col14.\n",
      "Col13 Col14\n",
      "1\n",
      "This line has Col13. \n",
      "This line has \u001b[91mCol13\u001b[39m and Col14.\n",
      "Only Col14.\n",
      "Col13 Col14\n",
      "2\n",
      "This line has Col13. \n",
      "This line has Col13 and \u001b[91mCol14\u001b[39m.\n",
      "Only Col14.\n",
      "Col13 Col14\n",
      "3\n",
      "This line has Col13. \n",
      "This line has Col13 and Col14.\n",
      "Only \u001b[91mCol14\u001b[39m.\n",
      "Col13 Col14\n",
      "4\n",
      "This line has Col13. \n",
      "This line has Col13 and Col14.\n",
      "Only Col14.\n",
      "\u001b[91mCol13\u001b[39m Col14\n",
      "5\n",
      "This line has Col13. \n",
      "This line has Col13 and Col14.\n",
      "Only Col14.\n",
      "Col13 \u001b[91mCol14\u001b[39m\n"
     ]
    }
   ],
   "source": [
    "#Find all instances of Col<int> repeated any number of times.\n",
    "txt= \"This line has Col13. \\nThis line has Col13 and Col14.\\nOnly Col14.\\nCol13 Col14\"\n",
    "x= re.finditer(\"Col[0-9][0-9]*\",txt)\n",
    "for i,m in enumerate(x):\n",
    "    print(i)\n",
    "    printDetails(m)"
   ]
  },
  {
   "cell_type": "code",
   "execution_count": 94,
   "id": "fc833d50",
   "metadata": {
    "id": "fc833d50",
    "outputId": "3abff0c9-2377-46d1-d4cd-232d1f038de7"
   },
   "outputs": [
    {
     "name": "stdout",
     "output_type": "stream",
     "text": [
      "0\n",
      "\u001b[91m\u001b[39mThis line has Col13. \n",
      "This line has Col13 and Col14.\n",
      "Only Col14.\n",
      "Col13 Col14\n",
      "1\n",
      "T\u001b[91m\u001b[39mhis line has Col13. \n",
      "This line has Col13 and Col14.\n",
      "Only Col14.\n",
      "Col13 Col14\n",
      "2\n",
      "Th\u001b[91m\u001b[39mis line has Col13. \n",
      "This line has Col13 and Col14.\n",
      "Only Col14.\n",
      "Col13 Col14\n",
      "3\n",
      "Thi\u001b[91m\u001b[39ms line has Col13. \n",
      "This line has Col13 and Col14.\n",
      "Only Col14.\n",
      "Col13 Col14\n",
      "4\n",
      "This\u001b[91m\u001b[39m line has Col13. \n",
      "This line has Col13 and Col14.\n",
      "Only Col14.\n",
      "Col13 Col14\n",
      "5\n",
      "This \u001b[91m\u001b[39mline has Col13. \n",
      "This line has Col13 and Col14.\n",
      "Only Col14.\n",
      "Col13 Col14\n",
      "6\n",
      "This l\u001b[91m\u001b[39mine has Col13. \n",
      "This line has Col13 and Col14.\n",
      "Only Col14.\n",
      "Col13 Col14\n",
      "7\n",
      "This li\u001b[91m\u001b[39mne has Col13. \n",
      "This line has Col13 and Col14.\n",
      "Only Col14.\n",
      "Col13 Col14\n",
      "8\n",
      "This lin\u001b[91m\u001b[39me has Col13. \n",
      "This line has Col13 and Col14.\n",
      "Only Col14.\n",
      "Col13 Col14\n",
      "9\n",
      "This line\u001b[91m\u001b[39m has Col13. \n",
      "This line has Col13 and Col14.\n",
      "Only Col14.\n",
      "Col13 Col14\n",
      "10\n",
      "This line \u001b[91m\u001b[39mhas Col13. \n",
      "This line has Col13 and Col14.\n",
      "Only Col14.\n",
      "Col13 Col14\n",
      "11\n",
      "This line h\u001b[91m\u001b[39mas Col13. \n",
      "This line has Col13 and Col14.\n",
      "Only Col14.\n",
      "Col13 Col14\n",
      "12\n",
      "This line ha\u001b[91m\u001b[39ms Col13. \n",
      "This line has Col13 and Col14.\n",
      "Only Col14.\n",
      "Col13 Col14\n",
      "13\n",
      "This line has\u001b[91m\u001b[39m Col13. \n",
      "This line has Col13 and Col14.\n",
      "Only Col14.\n",
      "Col13 Col14\n",
      "14\n",
      "This line has \u001b[91mCol13\u001b[39m. \n",
      "This line has Col13 and Col14.\n",
      "Only Col14.\n",
      "Col13 Col14\n",
      "15\n",
      "This line has Col13\u001b[91m\u001b[39m. \n",
      "This line has Col13 and Col14.\n",
      "Only Col14.\n",
      "Col13 Col14\n",
      "16\n",
      "This line has Col13.\u001b[91m\u001b[39m \n",
      "This line has Col13 and Col14.\n",
      "Only Col14.\n",
      "Col13 Col14\n",
      "17\n",
      "This line has Col13. \u001b[91m\u001b[39m\n",
      "This line has Col13 and Col14.\n",
      "Only Col14.\n",
      "Col13 Col14\n",
      "18\n",
      "This line has Col13. \n",
      "\u001b[91m\u001b[39mThis line has Col13 and Col14.\n",
      "Only Col14.\n",
      "Col13 Col14\n",
      "19\n",
      "This line has Col13. \n",
      "T\u001b[91m\u001b[39mhis line has Col13 and Col14.\n",
      "Only Col14.\n",
      "Col13 Col14\n",
      "20\n",
      "This line has Col13. \n",
      "Th\u001b[91m\u001b[39mis line has Col13 and Col14.\n",
      "Only Col14.\n",
      "Col13 Col14\n",
      "21\n",
      "This line has Col13. \n",
      "Thi\u001b[91m\u001b[39ms line has Col13 and Col14.\n",
      "Only Col14.\n",
      "Col13 Col14\n",
      "22\n",
      "This line has Col13. \n",
      "This\u001b[91m\u001b[39m line has Col13 and Col14.\n",
      "Only Col14.\n",
      "Col13 Col14\n",
      "23\n",
      "This line has Col13. \n",
      "This \u001b[91m\u001b[39mline has Col13 and Col14.\n",
      "Only Col14.\n",
      "Col13 Col14\n",
      "24\n",
      "This line has Col13. \n",
      "This l\u001b[91m\u001b[39mine has Col13 and Col14.\n",
      "Only Col14.\n",
      "Col13 Col14\n",
      "25\n",
      "This line has Col13. \n",
      "This li\u001b[91m\u001b[39mne has Col13 and Col14.\n",
      "Only Col14.\n",
      "Col13 Col14\n",
      "26\n",
      "This line has Col13. \n",
      "This lin\u001b[91m\u001b[39me has Col13 and Col14.\n",
      "Only Col14.\n",
      "Col13 Col14\n",
      "27\n",
      "This line has Col13. \n",
      "This line\u001b[91m\u001b[39m has Col13 and Col14.\n",
      "Only Col14.\n",
      "Col13 Col14\n",
      "28\n",
      "This line has Col13. \n",
      "This line \u001b[91m\u001b[39mhas Col13 and Col14.\n",
      "Only Col14.\n",
      "Col13 Col14\n",
      "29\n",
      "This line has Col13. \n",
      "This line h\u001b[91m\u001b[39mas Col13 and Col14.\n",
      "Only Col14.\n",
      "Col13 Col14\n",
      "30\n",
      "This line has Col13. \n",
      "This line ha\u001b[91m\u001b[39ms Col13 and Col14.\n",
      "Only Col14.\n",
      "Col13 Col14\n",
      "31\n",
      "This line has Col13. \n",
      "This line has\u001b[91m\u001b[39m Col13 and Col14.\n",
      "Only Col14.\n",
      "Col13 Col14\n",
      "32\n",
      "This line has Col13. \n",
      "This line has \u001b[91mCol13\u001b[39m and Col14.\n",
      "Only Col14.\n",
      "Col13 Col14\n",
      "33\n",
      "This line has Col13. \n",
      "This line has Col13\u001b[91m\u001b[39m and Col14.\n",
      "Only Col14.\n",
      "Col13 Col14\n",
      "34\n",
      "This line has Col13. \n",
      "This line has Col13 \u001b[91m\u001b[39mand Col14.\n",
      "Only Col14.\n",
      "Col13 Col14\n",
      "35\n",
      "This line has Col13. \n",
      "This line has Col13 a\u001b[91m\u001b[39mnd Col14.\n",
      "Only Col14.\n",
      "Col13 Col14\n",
      "36\n",
      "This line has Col13. \n",
      "This line has Col13 an\u001b[91m\u001b[39md Col14.\n",
      "Only Col14.\n",
      "Col13 Col14\n",
      "37\n",
      "This line has Col13. \n",
      "This line has Col13 and\u001b[91m\u001b[39m Col14.\n",
      "Only Col14.\n",
      "Col13 Col14\n",
      "38\n",
      "This line has Col13. \n",
      "This line has Col13 and \u001b[91mCol14\u001b[39m.\n",
      "Only Col14.\n",
      "Col13 Col14\n",
      "39\n",
      "This line has Col13. \n",
      "This line has Col13 and Col14\u001b[91m\u001b[39m.\n",
      "Only Col14.\n",
      "Col13 Col14\n",
      "40\n",
      "This line has Col13. \n",
      "This line has Col13 and Col14.\u001b[91m\u001b[39m\n",
      "Only Col14.\n",
      "Col13 Col14\n",
      "41\n",
      "This line has Col13. \n",
      "This line has Col13 and Col14.\n",
      "\u001b[91m\u001b[39mOnly Col14.\n",
      "Col13 Col14\n",
      "42\n",
      "This line has Col13. \n",
      "This line has Col13 and Col14.\n",
      "O\u001b[91m\u001b[39mnly Col14.\n",
      "Col13 Col14\n",
      "43\n",
      "This line has Col13. \n",
      "This line has Col13 and Col14.\n",
      "On\u001b[91m\u001b[39mly Col14.\n",
      "Col13 Col14\n",
      "44\n",
      "This line has Col13. \n",
      "This line has Col13 and Col14.\n",
      "Onl\u001b[91m\u001b[39my Col14.\n",
      "Col13 Col14\n",
      "45\n",
      "This line has Col13. \n",
      "This line has Col13 and Col14.\n",
      "Only\u001b[91m\u001b[39m Col14.\n",
      "Col13 Col14\n",
      "46\n",
      "This line has Col13. \n",
      "This line has Col13 and Col14.\n",
      "Only \u001b[91mCol14\u001b[39m.\n",
      "Col13 Col14\n",
      "47\n",
      "This line has Col13. \n",
      "This line has Col13 and Col14.\n",
      "Only Col14\u001b[91m\u001b[39m.\n",
      "Col13 Col14\n",
      "48\n",
      "This line has Col13. \n",
      "This line has Col13 and Col14.\n",
      "Only Col14.\u001b[91m\u001b[39m\n",
      "Col13 Col14\n",
      "49\n",
      "This line has Col13. \n",
      "This line has Col13 and Col14.\n",
      "Only Col14.\n",
      "\u001b[91mCol13\u001b[39m Col14\n",
      "50\n",
      "This line has Col13. \n",
      "This line has Col13 and Col14.\n",
      "Only Col14.\n",
      "Col13\u001b[91m\u001b[39m Col14\n",
      "51\n",
      "This line has Col13. \n",
      "This line has Col13 and Col14.\n",
      "Only Col14.\n",
      "Col13 \u001b[91mCol14\u001b[39m\n",
      "52\n",
      "This line has Col13. \n",
      "This line has Col13 and Col14.\n",
      "Only Col14.\n",
      "Col13 Col14\u001b[91m\u001b[39m\n"
     ]
    }
   ],
   "source": [
    "#Find all instances of Col<int> repeated any number of times.\n",
    "txt= \"This line has Col13. \\nThis line has Col13 and Col14.\\nOnly Col14.\\nCol13 Col14\"\n",
    "x= re.finditer(\"(Col[0-9][0-9])*\",txt)\n",
    "for i,m in enumerate(x):\n",
    "    print(i)\n",
    "    printDetails(m)"
   ]
  },
  {
   "cell_type": "code",
   "execution_count": 95,
   "id": "8772e8ef",
   "metadata": {
    "id": "8772e8ef",
    "outputId": "38b1de74-e1e3-44bc-d428-4e60547ef80b"
   },
   "outputs": [
    {
     "name": "stdout",
     "output_type": "stream",
     "text": [
      "0\n",
      "This line has \u001b[91mCol13\u001b[39m. \n",
      "This line has Col13 and Col14.\n",
      "Only Col14.\n",
      "Col13 Col14\n",
      "1\n",
      "This line has Col13. \n",
      "This line has \u001b[91mCol13 \u001b[39mand Col14.\n",
      "Only Col14.\n",
      "Col13 Col14\n",
      "2\n",
      "This line has Col13. \n",
      "This line has Col13 and \u001b[91mCol14\u001b[39m.\n",
      "Only Col14.\n",
      "Col13 Col14\n",
      "3\n",
      "This line has Col13. \n",
      "This line has Col13 and Col14.\n",
      "Only \u001b[91mCol14\u001b[39m.\n",
      "Col13 Col14\n",
      "4\n",
      "This line has Col13. \n",
      "This line has Col13 and Col14.\n",
      "Only Col14.\n",
      "\u001b[91mCol13 Col14\u001b[39m\n"
     ]
    }
   ],
   "source": [
    "#Find all instances of Col<int> repeated any number of times.\n",
    "txt= \"This line has Col13. \\nThis line has Col13 and Col14.\\nOnly Col14.\\nCol13 Col14\"\n",
    "x= re.finditer(\"(Col[0-9]+ *)+\",txt)\n",
    "for i,m in enumerate(x):\n",
    "    print(i)\n",
    "    printDetails(m)"
   ]
  },
  {
   "cell_type": "code",
   "execution_count": 96,
   "id": "e7bfe204",
   "metadata": {
    "id": "e7bfe204",
    "outputId": "61c41ed5-db06-4842-ff70-888d80d708e8"
   },
   "outputs": [
    {
     "name": "stdout",
     "output_type": "stream",
     "text": [
      "0\n",
      "This line has Col13. \n",
      "This line has Col13 and Col14.\n",
      "Only Col14.\n",
      "\u001b[91mCol13 Col14\u001b[39m\n"
     ]
    }
   ],
   "source": [
    "#Find all instances of Col<int> repeated any number of times.\n",
    "txt= \"This line has Col13. \\nThis line has Col13 and Col14.\\nOnly Col14.\\nCol13 Col14\"\n",
    "x= re.finditer(\"^(Col[0-9]+ *)+\",txt,flags=re.MULTILINE)\n",
    "for i,m in enumerate(x):\n",
    "    print(i)\n",
    "    printDetails(m)"
   ]
  },
  {
   "cell_type": "code",
   "execution_count": null,
   "id": "68976087",
   "metadata": {
    "id": "68976087",
    "outputId": "ec17c9fa-faad-4f7c-df4d-8f30763c7152"
   },
   "outputs": [],
   "source": [
    "#Find all instances of Col<int> repeated any number of times.\n",
    "txt= \"This line has Col13. \\nThis line has Col13 and Col14.\\nOnly Col14.\\nCol13 Col14  Col15       Col16\"\n",
    "x= re.finditer(\"^(Col[0-9]+ *)+\",txt,flags=re.MULTILINE)\n",
    "for i,m in enumerate(x):\n",
    "    print(i)\n",
    "    printDetails(m)"
   ]
  },
  {
   "cell_type": "code",
   "execution_count": null,
   "id": "dfd6df52",
   "metadata": {
    "id": "dfd6df52",
    "outputId": "e8f4dfab-be13-4703-fa29-291a4ff79fbe"
   },
   "outputs": [],
   "source": [
    "#Find all instances of Col<int><int>.\n",
    "txt= \"This line has Col13. \\nThis line has Col13 and Col14.\\nOnly Col14.\\nCol13 Col14\"\n",
    "x= re.finditer(\"Col[0-9]{2}\",txt)\n",
    "for i,m in enumerate(x):\n",
    "    print(i)\n",
    "    printDetails(m)"
   ]
  },
  {
   "cell_type": "code",
   "execution_count": null,
   "id": "b2a3ca85",
   "metadata": {
    "id": "b2a3ca85",
    "outputId": "322c9dad-87e5-40c5-fa27-2c8c7f46aa35"
   },
   "outputs": [],
   "source": [
    "#Find all instances of Col<int><int>.\n",
    "txt= \"This line has Col1. \\nThis line has Col3 and Col14.\\nOnly Col14.\\nCol13 Col14\"\n",
    "x= re.finditer(\"Col[0-9]{2}\",txt)\n",
    "for i,m in enumerate(x):\n",
    "    print(i)\n",
    "    printDetails(m)"
   ]
  },
  {
   "cell_type": "code",
   "execution_count": null,
   "id": "e7673bb3",
   "metadata": {
    "id": "e7673bb3",
    "outputId": "f41659bd-7af3-45c6-d57b-e53378a638b8"
   },
   "outputs": [],
   "source": [
    "#Find all instances of Col<int><int>.\n",
    "txt= \"This line has Col123. \\nThis line has Col3 and Col14.\\nOnly Col14.\\nCol13 Col14\"\n",
    "x= re.finditer(\"Col[0-9]{1,2}\",txt)\n",
    "for i,m in enumerate(x):\n",
    "    print(i)\n",
    "    printDetails(m)"
   ]
  },
  {
   "cell_type": "code",
   "execution_count": null,
   "id": "e1881c53",
   "metadata": {
    "id": "e1881c53",
    "outputId": "bb5af0ce-5dad-43fa-bb38-8c89a3eea559"
   },
   "outputs": [],
   "source": [
    "#Find all instances of Col<int><int>.\n",
    "txt= \"This line has Col123. \\nThis line has Col3 and Col14.\\nOnly Col14.\\nCol13 Col14\"\n",
    "x= re.finditer(\"Col[0-9]{2,}\",txt)\n",
    "for i,m in enumerate(x):\n",
    "    print(i)\n",
    "    printDetails(m)"
   ]
  },
  {
   "cell_type": "code",
   "execution_count": null,
   "id": "25189b36",
   "metadata": {
    "id": "25189b36",
    "outputId": "c91f906e-6f48-4aec-c44d-2cd12a2362e4"
   },
   "outputs": [],
   "source": [
    "#Find all instances of Col<int><int>.\n",
    "txt= \"This line has Col1{}. \\nThis line has Col3 and Col14.\\nOnly Col14.\\nCol13 Col14 Col\"\n",
    "x= re.search(\"Col[0-9]{}\",txt)\n",
    "print(x)\n",
    "for i,m in enumerate(x):\n",
    "    print(i)\n",
    "    printDetails(m)"
   ]
  },
  {
   "cell_type": "code",
   "execution_count": null,
   "id": "0c6ceb54",
   "metadata": {
    "id": "0c6ceb54",
    "outputId": "2fcc66d6-a9fe-4326-f9fa-05fc05049c2b"
   },
   "outputs": [],
   "source": [
    "#Find all instances of *?.\n",
    "txt= \"This line has *?. \\nThis line also has *?.\"\n",
    "x= re.finditer(\"*?\",txt)\n",
    "for i,m in enumerate(x):\n",
    "    print(i)\n",
    "    printDetails(m)"
   ]
  },
  {
   "cell_type": "code",
   "execution_count": null,
   "id": "732a51e7",
   "metadata": {
    "id": "732a51e7",
    "outputId": "2795091b-7be8-41fd-cded-14e09fe46ffe"
   },
   "outputs": [],
   "source": [
    "#Find all instances of *?.\n",
    "txt= \"This line has *?. \\nThis line also has *?.\"\n",
    "x= re.finditer(\"\\*\\?\",txt)\n",
    "for i,m in enumerate(x):\n",
    "    print(i)\n",
    "    printDetails(m)"
   ]
  },
  {
   "cell_type": "markdown",
   "id": "e1d386d5",
   "metadata": {
    "id": "e1d386d5"
   },
   "source": [
    "Precedence Hierarchy: <br>1. Parenthesis <br>2. Counters <br> 3. Sequences <br>4. Disjunction<br>\n",
    "<i>the*</i> matches zero or more occurrences of e and not the, as in <i>theeee</i><br>\n",
    "<i>(the)*</i> matches zero or more occurrences of the, as in <i>the the the</i><br>\n",
    "<i>the|any</i> matches <i>the</i> or <i>any</i> and not <i>theny</i> or <i>thany</i>"
   ]
  },
  {
   "cell_type": "code",
   "execution_count": 97,
   "id": "9d20a114",
   "metadata": {
    "id": "9d20a114",
    "outputId": "d5f8f1c3-54ba-466f-b5a0-b9327964f42d"
   },
   "outputs": [
    {
     "name": "stdout",
     "output_type": "stream",
     "text": [
      "0\n",
      "The Cheetah is faster than \u001b[91mthe\u001b[39m other animals. \n",
      "The article in English is the.\n",
      "1\n",
      "The Cheetah is faster than the o\u001b[91mthe\u001b[39mr animals. \n",
      "The article in English is the.\n",
      "2\n",
      "The Cheetah is faster than the other animals. \n",
      "The article in English is \u001b[91mthe\u001b[39m.\n"
     ]
    }
   ],
   "source": [
    "#Find all instances of the English article \"the\".\n",
    "txt= \"The Cheetah is faster than the other animals. \\nThe article in English is the.\"\n",
    "x= re.finditer(\"the\",txt)\n",
    "for i,m in enumerate(x):\n",
    "    print(i)\n",
    "    printDetails(m)"
   ]
  },
  {
   "cell_type": "code",
   "execution_count": 98,
   "id": "cb5b4f52",
   "metadata": {
    "id": "cb5b4f52",
    "outputId": "2166f430-1639-4b57-f2e6-a3d2884f086c"
   },
   "outputs": [
    {
     "name": "stdout",
     "output_type": "stream",
     "text": [
      "0\n",
      "\u001b[91mThe\u001b[39m Cheetah is faster than the other animals. \n",
      "The article in English is the.\n",
      "1\n",
      "The Cheetah is faster than \u001b[91mthe\u001b[39m other animals. \n",
      "The article in English is the.\n",
      "2\n",
      "The Cheetah is faster than the o\u001b[91mthe\u001b[39mr animals. \n",
      "The article in English is the.\n",
      "3\n",
      "The Cheetah is faster than the other animals. \n",
      "\u001b[91mThe\u001b[39m article in English is the.\n",
      "4\n",
      "The Cheetah is faster than the other animals. \n",
      "The article in English is \u001b[91mthe\u001b[39m.\n"
     ]
    }
   ],
   "source": [
    "#Find all instances of the English article \"the\".\n",
    "txt= \"The Cheetah is faster than the other animals. \\nThe article in English is the.\"\n",
    "x= re.finditer(\"[tT]he\",txt)\n",
    "for i,m in enumerate(x):\n",
    "    print(i)\n",
    "    printDetails(m)"
   ]
  },
  {
   "cell_type": "code",
   "execution_count": 103,
   "id": "b33b6d45",
   "metadata": {
    "id": "b33b6d45",
    "outputId": "94c18ce6-2c9b-44f4-aace-fbcde52fa5ad"
   },
   "outputs": [],
   "source": [
    "#Find all instances of the English article \"the\".\n",
    "txt= \"The Cheetah is faster than the other animals. \\nThe article in English is the.\"\n",
    "x= re.finditer(\"\\b[tT]he\\b\",txt)\n",
    "for i,m in enumerate(x):\n",
    "    print(i)\n",
    "    printDetails(m)"
   ]
  },
  {
   "cell_type": "code",
   "execution_count": 102,
   "id": "f2041978",
   "metadata": {
    "id": "f2041978",
    "outputId": "a0218355-21e4-4e4f-9feb-fbd108c3f78f"
   },
   "outputs": [
    {
     "name": "stdout",
     "output_type": "stream",
     "text": [
      "0\n",
      "\u001b[91mThe\u001b[39m Cheetah is faster than the other animals. \n",
      "The article in English is the.\n",
      "1\n",
      "The Cheetah is faster than \u001b[91mthe\u001b[39m other animals. \n",
      "The article in English is the.\n",
      "2\n",
      "The Cheetah is faster than the other animals. \n",
      "\u001b[91mThe\u001b[39m article in English is the.\n",
      "3\n",
      "The Cheetah is faster than the other animals. \n",
      "The article in English is \u001b[91mthe\u001b[39m.\n"
     ]
    }
   ],
   "source": [
    "#Find all instances of the English article \"the\".\n",
    "txt= \"The Cheetah is faster than the other animals. \\nThe article in English is the.\"\n",
    "x= re.finditer(\"\\\\b[tT]he\\\\b\",txt)\n",
    "for i,m in enumerate(x):\n",
    "    print(i)\n",
    "    printDetails(m)"
   ]
  },
  {
   "cell_type": "code",
   "execution_count": 104,
   "id": "e0e24da2",
   "metadata": {
    "id": "e0e24da2",
    "outputId": "1782e475-2ee6-4363-e647-7e1971f15dec"
   },
   "outputs": [
    {
     "name": "stdout",
     "output_type": "stream",
     "text": [
      "0\n",
      "The Cheetah is faster than\u001b[91m the\u001b[39m other animals. \n",
      "The article in English is the. \n",
      " What is there?\n",
      "1\n",
      "The Cheetah is faster than the other animals. \u001b[91m\n",
      "The\u001b[39m article in English is the. \n",
      " What is there?\n",
      "2\n",
      "The Cheetah is faster than the other animals. \n",
      "The article in English is\u001b[91m the\u001b[39m. \n",
      " What is there?\n",
      "3\n",
      "The Cheetah is faster than the other animals. \n",
      "The article in English is the. \n",
      " What is\u001b[91m the\u001b[39mre?\n"
     ]
    }
   ],
   "source": [
    "#Find all instances of the English article \"the\" without \\b\n",
    "txt= \"The Cheetah is faster than the other animals. \\nThe article in English is the. \\n What is there?\"\n",
    "x= re.finditer(\"[^a-zA-Z][tT]he\",txt)\n",
    "for i,m in enumerate(x):\n",
    "    print(i)\n",
    "    printDetails(m)"
   ]
  },
  {
   "cell_type": "code",
   "execution_count": 105,
   "id": "ab18de6b",
   "metadata": {
    "id": "ab18de6b",
    "outputId": "1b76e161-4a1f-4a33-b450-61c56f95ae3b"
   },
   "outputs": [
    {
     "name": "stdout",
     "output_type": "stream",
     "text": [
      "0\n",
      "The Cheetah is faster than\u001b[91m the \u001b[39mother animals. \n",
      "The article in English is the. \n",
      " What is there?\n",
      "1\n",
      "The Cheetah is faster than the other animals. \u001b[91m\n",
      "The \u001b[39marticle in English is the. \n",
      " What is there?\n",
      "2\n",
      "The Cheetah is faster than the other animals. \n",
      "The article in English is\u001b[91m the.\u001b[39m \n",
      " What is there?\n"
     ]
    }
   ],
   "source": [
    "#Find all instances of the English article \"the\" without \\b\n",
    "txt= \"The Cheetah is faster than the other animals. \\nThe article in English is the. \\n What is there?\"\n",
    "x= re.finditer(\"[^a-zA-Z][tT]he[^a-zA-Z]\",txt)\n",
    "for i,m in enumerate(x):\n",
    "    print(i)\n",
    "    printDetails(m)"
   ]
  },
  {
   "cell_type": "code",
   "execution_count": 106,
   "id": "d75a9059",
   "metadata": {
    "id": "d75a9059",
    "outputId": "bb5ee98a-c3d6-4573-b76d-4949050e77e4"
   },
   "outputs": [
    {
     "name": "stdout",
     "output_type": "stream",
     "text": [
      "0\n",
      "\u001b[91mThe \u001b[39mCheetah is faster than the other animals. \n",
      "The article in English is the. \n",
      " What is there?\n",
      "1\n",
      "The Cheetah is faster than\u001b[91m the \u001b[39mother animals. \n",
      "The article in English is the. \n",
      " What is there?\n",
      "2\n",
      "The Cheetah is faster than the other animals. \u001b[91m\n",
      "The \u001b[39marticle in English is the. \n",
      " What is there?\n",
      "3\n",
      "The Cheetah is faster than the other animals. \n",
      "The article in English is\u001b[91m the.\u001b[39m \n",
      " What is there?\n"
     ]
    }
   ],
   "source": [
    "#Find all instances of the English article \"the\" without \\b\n",
    "txt= \"The Cheetah is faster than the other animals. \\nThe article in English is the. \\n What is there?\"\n",
    "x= re.finditer(\"(^|[^a-zA-Z])[tT]he[^a-zA-Z]\",txt)\n",
    "for i,m in enumerate(x):\n",
    "    print(i)\n",
    "    printDetails(m)\n",
    "#Notice the . in red!"
   ]
  },
  {
   "cell_type": "code",
   "execution_count": 107,
   "id": "1b3383fa",
   "metadata": {
    "id": "1b3383fa",
    "outputId": "2aeb0c98-da5d-4623-9b9a-0eb92107b58d"
   },
   "outputs": [
    {
     "name": "stdout",
     "output_type": "stream",
     "text": [
      "0\n",
      "\u001b[91mThe \u001b[39mCheetah is faster than$the$other animals. \n",
      "The article in English is$the$\n",
      " What is there?\n",
      "1\n",
      "The Cheetah is faster than\u001b[91m$the$\u001b[39mother animals. \n",
      "The article in English is$the$\n",
      " What is there?\n",
      "2\n",
      "The Cheetah is faster than$the$other animals. \u001b[91m\n",
      "The \u001b[39marticle in English is$the$\n",
      " What is there?\n",
      "3\n",
      "The Cheetah is faster than$the$other animals. \n",
      "The article in English is\u001b[91m$the$\u001b[39m\n",
      " What is there?\n"
     ]
    }
   ],
   "source": [
    "#Find all instances of the English article \"the\" without \\b\n",
    "txt= \"The Cheetah is faster than$the$other animals. \\nThe article in English is$the$\\n What is there?\"\n",
    "x= re.finditer(\"(^|[^a-zA-Z])[tT]he[^a-zA-Z]\",txt)\n",
    "for i,m in enumerate(x):\n",
    "    print(i)\n",
    "    printDetails(m)"
   ]
  },
  {
   "cell_type": "code",
   "execution_count": 108,
   "id": "13b47c34",
   "metadata": {
    "id": "13b47c34",
    "outputId": "e52a59c7-6d01-4ea3-d8f5-3cf9987b78e1"
   },
   "outputs": [
    {
     "name": "stdout",
     "output_type": "stream",
     "text": [
      "0\n",
      "\u001b[91mThe \u001b[39mCheetah is faster than the other animals. \n",
      "The article in English is the\n",
      "1\n",
      "The Cheetah is faster than\u001b[91m the \u001b[39mother animals. \n",
      "The article in English is the\n",
      "2\n",
      "The Cheetah is faster than the other animals. \u001b[91m\n",
      "The \u001b[39marticle in English is the\n"
     ]
    }
   ],
   "source": [
    "#Find all instances of the English article \"the\" without \\b\n",
    "txt= \"The Cheetah is faster than the other animals. \\nThe article in English is the\"\n",
    "x= re.finditer(\"(^|[^a-zA-Z])[tT]he[^a-zA-Z]\",txt)\n",
    "for i,m in enumerate(x):\n",
    "    print(i)\n",
    "    printDetails(m)\n",
    "#Is it finding the last \"the\"?"
   ]
  },
  {
   "cell_type": "code",
   "execution_count": 109,
   "id": "fa5a9538",
   "metadata": {
    "id": "fa5a9538",
    "outputId": "fb78f917-8012-40e3-a5f8-d293bf7eea69"
   },
   "outputs": [
    {
     "name": "stdout",
     "output_type": "stream",
     "text": [
      "0\n",
      "\u001b[91mThe \u001b[39mCheetah is faster than the other animals. \n",
      "The article in English is the\n",
      "1\n",
      "The Cheetah is faster than\u001b[91m the \u001b[39mother animals. \n",
      "The article in English is the\n",
      "2\n",
      "The Cheetah is faster than the other animals. \u001b[91m\n",
      "The \u001b[39marticle in English is the\n",
      "3\n",
      "The Cheetah is faster than the other animals. \n",
      "The article in English is\u001b[91m the\u001b[39m\n"
     ]
    }
   ],
   "source": [
    "#Find all instances of the English article \"the\" without \\b\n",
    "txt= \"The Cheetah is faster than the other animals. \\nThe article in English is the\"\n",
    "x= re.finditer(\"(^|[^a-zA-Z])[tT]he([^a-zA-Z]|$)\",txt)\n",
    "for i,m in enumerate(x):\n",
    "    print(i)\n",
    "    printDetails(m)"
   ]
  },
  {
   "cell_type": "code",
   "execution_count": 112,
   "id": "167488b8",
   "metadata": {
    "id": "167488b8",
    "outputId": "8cd0ca8d-3429-4a16-fe61-88fe8378163a"
   },
   "outputs": [
    {
     "name": "stdout",
     "output_type": "stream",
     "text": [
      "0\n",
      "Price of macbook is \u001b[91m$3335.34\u001b[39m\n",
      "Dell laptops at $199.99 is for sale!\n",
      "Lenovo laptops starting from $150 in July, 2023.\n"
     ]
    }
   ],
   "source": [
    "#Help a user buy a computer as follows:\n",
    "#any machine with at least 6 GHz and 500 GB Hard disk space for less than $1000\n",
    "#We will look out for price patterns alone, say $199.99\n",
    "txt= \"Price of macbook is $3335.34\\nDell laptops at $199.99 is for sale!\\nLenovo laptops starting from $150 in July, 2023.\"\n",
    "x= re.finditer(\"\\$[0-9]{4,5}\\.[0-9][0-9]\",txt)\n",
    "for i,m in enumerate(x):   # In this we are trying to find dollor starting with $ which has min 4 digits and maz 5 disgits followed by some cents\n",
    "    print(i)\n",
    "    printDetails(m)"
   ]
  },
  {
   "cell_type": "code",
   "execution_count": 113,
   "id": "a3ae9e80",
   "metadata": {
    "id": "a3ae9e80",
    "outputId": "434512fd-b3cd-4bf8-f95a-a5796dd7a9be"
   },
   "outputs": [
    {
     "name": "stdout",
     "output_type": "stream",
     "text": [
      "0\n",
      "Price of macbook is \u001b[91m$25.34\u001b[39m\n",
      "Dell laptops at $199.99 is for sale!\n",
      "Lenovo laptops starting from $150 in July, 2023.\n",
      "1\n",
      "Price of macbook is $25.34\n",
      "Dell laptops at \u001b[91m$199.99\u001b[39m is for sale!\n",
      "Lenovo laptops starting from $150 in July, 2023.\n",
      "2\n",
      "Price of macbook is $25.34\n",
      "Dell laptops at $199.99 is for sale!\n",
      "Lenovo laptops starting from \u001b[91m$150\u001b[39m in July, 2023.\n"
     ]
    }
   ],
   "source": [
    "#Help a user buy a computer as follows:\n",
    "#any machine with at least 6 GHz and 500 GB Hard disk space for less than $1000\n",
    "#We will look out for price patterns alone, say $199.99\n",
    "txt= \"Price of macbook is $25.34\\nDell laptops at $199.99 is for sale!\\nLenovo laptops starting from $150 in July, 2023.\"\n",
    "x= re.finditer(\"\\$[0-9]{1,3}(\\.[0-9][0-9])?\",txt)  # (\\.[0-9][0-9])?: This is an optional group in parentheses. It matches the decimal part of the dollar amount, denoted by the period \".\" followed by exactly two digits (0-9). The question mark ? after the closing parenthesis makes this group optional, meaning it can match zero or one occurrence of the decimal part.\n",
    "for i,m in enumerate(x):\n",
    "    print(i)\n",
    "    printDetails(m)"
   ]
  },
  {
   "cell_type": "code",
   "execution_count": 4,
   "id": "005cea8a",
   "metadata": {
    "id": "005cea8a",
    "outputId": "e9cc317f-73e8-4852-a93e-d00ef56d0895"
   },
   "outputs": [
    {
     "name": "stdout",
     "output_type": "stream",
     "text": [
      "0\n",
      "Hard disk size of \u001b[91m225GB\u001b[39m at $300\n",
      "Hard disk size of 545    GB at $500 is for sale!\n",
      "\n",
      "1\n",
      "Hard disk size of 225GB at $300\n",
      "Hard disk size of \u001b[91m545    GB\u001b[39m at $500 is for sale!\n",
      "\n"
     ]
    }
   ],
   "source": [
    "#Help a user buy a computer as follows:\n",
    "#any machine with at least 6 GHz and 500 GB Hard disk space for less than $1000\n",
    "#We will look out for hard disk space of number followed by GB\n",
    "txt= \"Hard disk size of 225GB at $300\\nHard disk size of 545    GB at $500 is for sale!\\n\"\n",
    "x= re.finditer(\"\\\\b[1-9][] *GB\",txt)\n",
    "for i,m in enumerate(x):\n",
    "    print(i)\n",
    "    printDetails(m)\n",
    "#But how do we ensure it is more than 500 GB??"
   ]
  },
  {
   "cell_type": "code",
   "execution_count": 114,
   "id": "3b7ea6fd",
   "metadata": {
    "id": "3b7ea6fd",
    "outputId": "c0738a11-24d1-41ff-e399-841b44d7bd67"
   },
   "outputs": [
    {
     "name": "stdout",
     "output_type": "stream",
     "text": [
      "0\n",
      "Colour \u001b[91mcolor\u001b[39m colour\n",
      "Colour color color\n"
     ]
    }
   ],
   "source": [
    "#replace a pattern\n",
    "txt= \"Colour color colour\"\n",
    "x= re.finditer(\"color\",txt)\n",
    "for i,m in enumerate(x):\n",
    "    print(i)\n",
    "    printDetails(m)\n",
    "print(re.sub(\"colour\",\"color\",txt))\n",
    "#But how do we ensure it is more than 500 GB??"
   ]
  },
  {
   "cell_type": "code",
   "execution_count": 8,
   "id": "31c75143",
   "metadata": {
    "id": "31c75143",
    "outputId": "079dc7e5-2c01-4a9a-8286-1b318838fe7a"
   },
   "outputs": [
    {
     "name": "stdout",
     "output_type": "stream",
     "text": [
      "0\n",
      "\u001b[91m123\u001b[39m is before 456\n",
      "456 is before 567\n",
      "1\n",
      "123 is before \u001b[91m456\u001b[39m\n",
      "456 is before 567\n",
      "2\n",
      "123 is before 456\n",
      "\u001b[91m456\u001b[39m is before 567\n",
      "3\n",
      "123 is before 456\n",
      "456 is before \u001b[91m567\u001b[39m\n",
      "<123> is before <456>\n",
      "<456> is before <567>\n"
     ]
    }
   ],
   "source": [
    "#replace a pattern\n",
    "txt= \"123 is before 456\\n456 is before 567\"\n",
    "x= re.finditer(\"[0-9]+\",txt)\n",
    "for i,m in enumerate(x):\n",
    "    print(i)\n",
    "    printDetails(m)\n",
    "y= re.sub(\"([0-9]+)\",r\"<\\1>\",txt)\n",
    "print(f'{y}')"
   ]
  },
  {
   "cell_type": "code",
   "execution_count": 9,
   "id": "3f1947cd",
   "metadata": {
    "id": "3f1947cd",
    "outputId": "0032c435-3dd6-4e36-fa52-4444a039c9f6"
   },
   "outputs": [
    {
     "name": "stdout",
     "output_type": "stream",
     "text": [
      "0\n",
      "\u001b[91mThe bigger they were, the bigger they will be\u001b[39m\n",
      "The bigger they were, the larger they will be\n",
      "<bigg>\n",
      "The bigger they were, the larger they will be\n"
     ]
    }
   ],
   "source": [
    "#replace a pattern\n",
    "txt= \"The bigger they were, the bigger they will be\\nThe bigger they were, the larger they will be\"\n",
    "x= re.finditer(\"The (.*)er they were, the \\\\1er they will be\",txt)\n",
    "for i,m in enumerate(x):\n",
    "    print(i)\n",
    "    printDetails(m)\n",
    "y= re.sub(\"The (.*)er they were, the \\\\1er they will be\",\"<\\\\1>\",txt)\n",
    "print(f'{y}')"
   ]
  },
  {
   "cell_type": "code",
   "execution_count": 14,
   "id": "c9a97018",
   "metadata": {
    "id": "c9a97018",
    "outputId": "0b954357-60ed-4af6-83fe-a3889d90c153"
   },
   "outputs": [
    {
     "name": "stdout",
     "output_type": "stream",
     "text": [
      "0\n",
      "\u001b[91mThe faster they ran, the faster we ran The faster they ran, the faster we ran\u001b[39m\n",
      "<fast><ran> <fast><ran>\n"
     ]
    }
   ],
   "source": [
    "#replace a pattern\n",
    "txt= \"The faster they ran, the faster we ran The faster they ran, the faster we ran\"\n",
    "x= re.finditer(\"The (.*)er they .* ran, the \\\\1er we ran\",txt)\n",
    "for i,m in enumerate(x):\n",
    "    print(i)\n",
    "    printDetails(m)\n",
    "y= re.sub(\"The (.*)er they (.*), the \\\\1er we \\\\2\",\"<\\\\1><\\\\2>\",txt)\n",
    "print(f'{y}')"
   ]
  },
  {
   "cell_type": "code",
   "execution_count": 17,
   "id": "e31c3c9c",
   "metadata": {
    "id": "e31c3c9c",
    "outputId": "825f4c11-ef94-4f92-d2c0-086f9d5a8c76"
   },
   "outputs": [
    {
     "name": "stdout",
     "output_type": "stream",
     "text": [
      "0\n",
      "\u001b[91mSome cats like some cats\u001b[39m\n",
      "Some people like some people\n",
      "A few cats like some people\n",
      "1\n",
      "Some cats like some cats\n",
      "\u001b[91mSome people like some people\u001b[39m\n",
      "A few cats like some people\n",
      "<cats>\n",
      "<people>\n",
      "A few cats like some people\n"
     ]
    }
   ],
   "source": [
    "#replace a pattern\n",
    "txt= \"Some cats like some cats\\nSome people like some people\\nA few cats like some people\"\n",
    "x= re.finditer(\"(?:[sS]ome|[aA] few) (people|cats) like some \\\\1\",txt)\n",
    "for i,m in enumerate(x):\n",
    "    print(i)\n",
    "    printDetails(m)\n",
    "y= re.sub(\"(?:[sS]ome|[aA] few) (people|cats) like some \\\\1\",\"<\\\\1>\",txt)\n",
    "print(f'{y}')"
   ]
  }
 ],
 "metadata": {
  "colab": {
   "provenance": []
  },
  "kernelspec": {
   "display_name": "Python 3 (ipykernel)",
   "language": "python",
   "name": "python3"
  },
  "language_info": {
   "codemirror_mode": {
    "name": "ipython",
    "version": 3
   },
   "file_extension": ".py",
   "mimetype": "text/x-python",
   "name": "python",
   "nbconvert_exporter": "python",
   "pygments_lexer": "ipython3",
   "version": "3.11.4"
  }
 },
 "nbformat": 4,
 "nbformat_minor": 5
}
